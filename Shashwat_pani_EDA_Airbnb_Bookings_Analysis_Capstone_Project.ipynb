{
  "nbformat": 4,
  "nbformat_minor": 0,
  "metadata": {
    "kernelspec": {
      "display_name": "Python 3",
      "language": "python",
      "name": "python3"
    },
    "language_info": {
      "codemirror_mode": {
        "name": "ipython",
        "version": 3
      },
      "file_extension": ".py",
      "mimetype": "text/x-python",
      "name": "python",
      "nbconvert_exporter": "python",
      "pygments_lexer": "ipython3",
      "version": "3.6.6"
    },
    "colab": {
      "name": "Shashwat_pani EDA Airbnb Bookings Analysis - Capstone Project.ipynb",
      "provenance": [],
      "collapsed_sections": [],
      "include_colab_link": true
    }
  },
  "cells": [
    {
      "cell_type": "markdown",
      "metadata": {
        "id": "view-in-github",
        "colab_type": "text"
      },
      "source": [
        "<a href=\"https://colab.research.google.com/github/Shashwat-spyder/airbnb-data-analysis/blob/main/Shashwat_pani_EDA_Airbnb_Bookings_Analysis_Capstone_Project.ipynb\" target=\"_parent\"><img src=\"https://colab.research.google.com/assets/colab-badge.svg\" alt=\"Open In Colab\"/></a>"
      ]
    },
    {
      "cell_type": "markdown",
      "metadata": {
        "id": "Y06xIdG26kRF"
      },
      "source": [
        "## <b> Since 2008, guests and hosts have used Airbnb to expand on traveling possibilities and present a more unique, personalized way of experiencing the world. Today, Airbnb became one of a kind service that is used and recognized by the whole world. Data analysis on millions of listings provided through Airbnb is a crucial factor for the company. These millions of listings generate a lot of data - data that can be analyzed and used for security, business decisions, understanding of customers' and providers' (hosts) behavior and performance on the platform, guiding marketing initiatives, implementation of innovative additional services and much more. </b>\n",
        "\n",
        "## <b>This dataset has around 49,000 observations in it with 16 columns and it is a mix between categorical and numeric values. </b>\n",
        "\n",
        "## <b> Explore and analyze the data to discover key understandings (not limited to these) such as : \n",
        "* What can we learn about different hosts and areas?\n",
        "* What can we learn from predictions? (ex: locations, prices, reviews, etc)\n",
        "* Which hosts are the busiest and why?\n",
        "* Is there any noticeable difference of traffic among different areas and what could be the reason for it? </b>"
      ]
    },
    {
      "cell_type": "markdown",
      "source": [
        ""
      ],
      "metadata": {
        "id": "Mj53Wdu8q5Hs"
      }
    },
    {
      "cell_type": "markdown",
      "source": [
        "### **Importing required packages for data exploration**"
      ],
      "metadata": {
        "id": "tZPrCTjt1Ybd"
      }
    },
    {
      "cell_type": "code",
      "source": [
        "import numpy as np\n",
        "import pandas as pd\n",
        "import matplotlib.pyplot as plt\n",
        "import seaborn as sns\n",
        "import datetime"
      ],
      "metadata": {
        "id": "4kyMXqy6jm_T"
      },
      "execution_count": 1,
      "outputs": []
    },
    {
      "cell_type": "markdown",
      "source": [
        "### **Connecting to collab environment.**"
      ],
      "metadata": {
        "id": "ShObU6Kn1i-k"
      }
    },
    {
      "cell_type": "code",
      "source": [
        "from google.colab import drive\n",
        "drive.mount('/content/drive/')"
      ],
      "metadata": {
        "id": "i8aeQLALc0z0",
        "colab": {
          "base_uri": "https://localhost:8080/"
        },
        "outputId": "735fdd00-c380-4350-cda1-aa7f9b603587"
      },
      "execution_count": 2,
      "outputs": [
        {
          "output_type": "stream",
          "name": "stdout",
          "text": [
            "Mounted at /content/drive/\n"
          ]
        }
      ]
    },
    {
      "cell_type": "markdown",
      "source": [
        "### **Importing 'Airbnb Booking' dataset.**"
      ],
      "metadata": {
        "id": "jAOMvhxE1qxz"
      }
    },
    {
      "cell_type": "code",
      "source": [
        "bnb_df= pd.read_csv('/content/drive/My Drive/Colab Notebooks/AirBNB Capstone 1 EDA/Airbnb NYC 2019.csv')"
      ],
      "metadata": {
        "id": "571UsGz7jk_W"
      },
      "execution_count": 3,
      "outputs": []
    },
    {
      "cell_type": "markdown",
      "source": [
        "### **Performing Data Exploration.**\n",
        "\n",
        "\n",
        "## *   Head\n",
        "## *   Tail\n",
        "## *   Summary\n",
        "## *   Data Dictionary\n",
        "\n",
        "\n",
        "\n"
      ],
      "metadata": {
        "id": "4mQFAZsi10lr"
      }
    },
    {
      "cell_type": "markdown",
      "source": [
        ""
      ],
      "metadata": {
        "id": "wTmrMiRwq184"
      }
    },
    {
      "cell_type": "markdown",
      "source": [
        "# **1. Head**"
      ],
      "metadata": {
        "id": "twZmVTUB2cez"
      }
    },
    {
      "cell_type": "code",
      "source": [
        "bnb_df.head()"
      ],
      "metadata": {
        "colab": {
          "base_uri": "https://localhost:8080/",
          "height": 461
        },
        "id": "-eWpfdv-lu6h",
        "outputId": "10bda81e-33f3-4e74-f83d-f3954bce5396"
      },
      "execution_count": 4,
      "outputs": [
        {
          "output_type": "execute_result",
          "data": {
            "text/plain": [
              "     id                                              name  host_id  \\\n",
              "0  2539                Clean & quiet apt home by the park     2787   \n",
              "1  2595                             Skylit Midtown Castle     2845   \n",
              "2  3647               THE VILLAGE OF HARLEM....NEW YORK !     4632   \n",
              "3  3831                   Cozy Entire Floor of Brownstone     4869   \n",
              "4  5022  Entire Apt: Spacious Studio/Loft by central park     7192   \n",
              "\n",
              "     host_name neighbourhood_group neighbourhood  latitude  longitude  \\\n",
              "0         John            Brooklyn    Kensington  40.64749  -73.97237   \n",
              "1     Jennifer           Manhattan       Midtown  40.75362  -73.98377   \n",
              "2    Elisabeth           Manhattan        Harlem  40.80902  -73.94190   \n",
              "3  LisaRoxanne            Brooklyn  Clinton Hill  40.68514  -73.95976   \n",
              "4        Laura           Manhattan   East Harlem  40.79851  -73.94399   \n",
              "\n",
              "         room_type  price  minimum_nights  number_of_reviews last_review  \\\n",
              "0     Private room    149               1                  9  2018-10-19   \n",
              "1  Entire home/apt    225               1                 45  2019-05-21   \n",
              "2     Private room    150               3                  0         NaN   \n",
              "3  Entire home/apt     89               1                270  2019-07-05   \n",
              "4  Entire home/apt     80              10                  9  2018-11-19   \n",
              "\n",
              "   reviews_per_month  calculated_host_listings_count  availability_365  \n",
              "0               0.21                               6               365  \n",
              "1               0.38                               2               355  \n",
              "2                NaN                               1               365  \n",
              "3               4.64                               1               194  \n",
              "4               0.10                               1                 0  "
            ],
            "text/html": [
              "\n",
              "  <div id=\"df-47519f6c-81ff-4b00-9132-f738549a6348\">\n",
              "    <div class=\"colab-df-container\">\n",
              "      <div>\n",
              "<style scoped>\n",
              "    .dataframe tbody tr th:only-of-type {\n",
              "        vertical-align: middle;\n",
              "    }\n",
              "\n",
              "    .dataframe tbody tr th {\n",
              "        vertical-align: top;\n",
              "    }\n",
              "\n",
              "    .dataframe thead th {\n",
              "        text-align: right;\n",
              "    }\n",
              "</style>\n",
              "<table border=\"1\" class=\"dataframe\">\n",
              "  <thead>\n",
              "    <tr style=\"text-align: right;\">\n",
              "      <th></th>\n",
              "      <th>id</th>\n",
              "      <th>name</th>\n",
              "      <th>host_id</th>\n",
              "      <th>host_name</th>\n",
              "      <th>neighbourhood_group</th>\n",
              "      <th>neighbourhood</th>\n",
              "      <th>latitude</th>\n",
              "      <th>longitude</th>\n",
              "      <th>room_type</th>\n",
              "      <th>price</th>\n",
              "      <th>minimum_nights</th>\n",
              "      <th>number_of_reviews</th>\n",
              "      <th>last_review</th>\n",
              "      <th>reviews_per_month</th>\n",
              "      <th>calculated_host_listings_count</th>\n",
              "      <th>availability_365</th>\n",
              "    </tr>\n",
              "  </thead>\n",
              "  <tbody>\n",
              "    <tr>\n",
              "      <th>0</th>\n",
              "      <td>2539</td>\n",
              "      <td>Clean &amp; quiet apt home by the park</td>\n",
              "      <td>2787</td>\n",
              "      <td>John</td>\n",
              "      <td>Brooklyn</td>\n",
              "      <td>Kensington</td>\n",
              "      <td>40.64749</td>\n",
              "      <td>-73.97237</td>\n",
              "      <td>Private room</td>\n",
              "      <td>149</td>\n",
              "      <td>1</td>\n",
              "      <td>9</td>\n",
              "      <td>2018-10-19</td>\n",
              "      <td>0.21</td>\n",
              "      <td>6</td>\n",
              "      <td>365</td>\n",
              "    </tr>\n",
              "    <tr>\n",
              "      <th>1</th>\n",
              "      <td>2595</td>\n",
              "      <td>Skylit Midtown Castle</td>\n",
              "      <td>2845</td>\n",
              "      <td>Jennifer</td>\n",
              "      <td>Manhattan</td>\n",
              "      <td>Midtown</td>\n",
              "      <td>40.75362</td>\n",
              "      <td>-73.98377</td>\n",
              "      <td>Entire home/apt</td>\n",
              "      <td>225</td>\n",
              "      <td>1</td>\n",
              "      <td>45</td>\n",
              "      <td>2019-05-21</td>\n",
              "      <td>0.38</td>\n",
              "      <td>2</td>\n",
              "      <td>355</td>\n",
              "    </tr>\n",
              "    <tr>\n",
              "      <th>2</th>\n",
              "      <td>3647</td>\n",
              "      <td>THE VILLAGE OF HARLEM....NEW YORK !</td>\n",
              "      <td>4632</td>\n",
              "      <td>Elisabeth</td>\n",
              "      <td>Manhattan</td>\n",
              "      <td>Harlem</td>\n",
              "      <td>40.80902</td>\n",
              "      <td>-73.94190</td>\n",
              "      <td>Private room</td>\n",
              "      <td>150</td>\n",
              "      <td>3</td>\n",
              "      <td>0</td>\n",
              "      <td>NaN</td>\n",
              "      <td>NaN</td>\n",
              "      <td>1</td>\n",
              "      <td>365</td>\n",
              "    </tr>\n",
              "    <tr>\n",
              "      <th>3</th>\n",
              "      <td>3831</td>\n",
              "      <td>Cozy Entire Floor of Brownstone</td>\n",
              "      <td>4869</td>\n",
              "      <td>LisaRoxanne</td>\n",
              "      <td>Brooklyn</td>\n",
              "      <td>Clinton Hill</td>\n",
              "      <td>40.68514</td>\n",
              "      <td>-73.95976</td>\n",
              "      <td>Entire home/apt</td>\n",
              "      <td>89</td>\n",
              "      <td>1</td>\n",
              "      <td>270</td>\n",
              "      <td>2019-07-05</td>\n",
              "      <td>4.64</td>\n",
              "      <td>1</td>\n",
              "      <td>194</td>\n",
              "    </tr>\n",
              "    <tr>\n",
              "      <th>4</th>\n",
              "      <td>5022</td>\n",
              "      <td>Entire Apt: Spacious Studio/Loft by central park</td>\n",
              "      <td>7192</td>\n",
              "      <td>Laura</td>\n",
              "      <td>Manhattan</td>\n",
              "      <td>East Harlem</td>\n",
              "      <td>40.79851</td>\n",
              "      <td>-73.94399</td>\n",
              "      <td>Entire home/apt</td>\n",
              "      <td>80</td>\n",
              "      <td>10</td>\n",
              "      <td>9</td>\n",
              "      <td>2018-11-19</td>\n",
              "      <td>0.10</td>\n",
              "      <td>1</td>\n",
              "      <td>0</td>\n",
              "    </tr>\n",
              "  </tbody>\n",
              "</table>\n",
              "</div>\n",
              "      <button class=\"colab-df-convert\" onclick=\"convertToInteractive('df-47519f6c-81ff-4b00-9132-f738549a6348')\"\n",
              "              title=\"Convert this dataframe to an interactive table.\"\n",
              "              style=\"display:none;\">\n",
              "        \n",
              "  <svg xmlns=\"http://www.w3.org/2000/svg\" height=\"24px\"viewBox=\"0 0 24 24\"\n",
              "       width=\"24px\">\n",
              "    <path d=\"M0 0h24v24H0V0z\" fill=\"none\"/>\n",
              "    <path d=\"M18.56 5.44l.94 2.06.94-2.06 2.06-.94-2.06-.94-.94-2.06-.94 2.06-2.06.94zm-11 1L8.5 8.5l.94-2.06 2.06-.94-2.06-.94L8.5 2.5l-.94 2.06-2.06.94zm10 10l.94 2.06.94-2.06 2.06-.94-2.06-.94-.94-2.06-.94 2.06-2.06.94z\"/><path d=\"M17.41 7.96l-1.37-1.37c-.4-.4-.92-.59-1.43-.59-.52 0-1.04.2-1.43.59L10.3 9.45l-7.72 7.72c-.78.78-.78 2.05 0 2.83L4 21.41c.39.39.9.59 1.41.59.51 0 1.02-.2 1.41-.59l7.78-7.78 2.81-2.81c.8-.78.8-2.07 0-2.86zM5.41 20L4 18.59l7.72-7.72 1.47 1.35L5.41 20z\"/>\n",
              "  </svg>\n",
              "      </button>\n",
              "      \n",
              "  <style>\n",
              "    .colab-df-container {\n",
              "      display:flex;\n",
              "      flex-wrap:wrap;\n",
              "      gap: 12px;\n",
              "    }\n",
              "\n",
              "    .colab-df-convert {\n",
              "      background-color: #E8F0FE;\n",
              "      border: none;\n",
              "      border-radius: 50%;\n",
              "      cursor: pointer;\n",
              "      display: none;\n",
              "      fill: #1967D2;\n",
              "      height: 32px;\n",
              "      padding: 0 0 0 0;\n",
              "      width: 32px;\n",
              "    }\n",
              "\n",
              "    .colab-df-convert:hover {\n",
              "      background-color: #E2EBFA;\n",
              "      box-shadow: 0px 1px 2px rgba(60, 64, 67, 0.3), 0px 1px 3px 1px rgba(60, 64, 67, 0.15);\n",
              "      fill: #174EA6;\n",
              "    }\n",
              "\n",
              "    [theme=dark] .colab-df-convert {\n",
              "      background-color: #3B4455;\n",
              "      fill: #D2E3FC;\n",
              "    }\n",
              "\n",
              "    [theme=dark] .colab-df-convert:hover {\n",
              "      background-color: #434B5C;\n",
              "      box-shadow: 0px 1px 3px 1px rgba(0, 0, 0, 0.15);\n",
              "      filter: drop-shadow(0px 1px 2px rgba(0, 0, 0, 0.3));\n",
              "      fill: #FFFFFF;\n",
              "    }\n",
              "  </style>\n",
              "\n",
              "      <script>\n",
              "        const buttonEl =\n",
              "          document.querySelector('#df-47519f6c-81ff-4b00-9132-f738549a6348 button.colab-df-convert');\n",
              "        buttonEl.style.display =\n",
              "          google.colab.kernel.accessAllowed ? 'block' : 'none';\n",
              "\n",
              "        async function convertToInteractive(key) {\n",
              "          const element = document.querySelector('#df-47519f6c-81ff-4b00-9132-f738549a6348');\n",
              "          const dataTable =\n",
              "            await google.colab.kernel.invokeFunction('convertToInteractive',\n",
              "                                                     [key], {});\n",
              "          if (!dataTable) return;\n",
              "\n",
              "          const docLinkHtml = 'Like what you see? Visit the ' +\n",
              "            '<a target=\"_blank\" href=https://colab.research.google.com/notebooks/data_table.ipynb>data table notebook</a>'\n",
              "            + ' to learn more about interactive tables.';\n",
              "          element.innerHTML = '';\n",
              "          dataTable['output_type'] = 'display_data';\n",
              "          await google.colab.output.renderOutput(dataTable, element);\n",
              "          const docLink = document.createElement('div');\n",
              "          docLink.innerHTML = docLinkHtml;\n",
              "          element.appendChild(docLink);\n",
              "        }\n",
              "      </script>\n",
              "    </div>\n",
              "  </div>\n",
              "  "
            ]
          },
          "metadata": {},
          "execution_count": 4
        }
      ]
    },
    {
      "cell_type": "markdown",
      "source": [
        "# **2. Tail**"
      ],
      "metadata": {
        "id": "y6njTBN12uYT"
      }
    },
    {
      "cell_type": "code",
      "source": [
        "bnb_df.tail()"
      ],
      "metadata": {
        "colab": {
          "base_uri": "https://localhost:8080/",
          "height": 513
        },
        "id": "a5G3LEC32r4z",
        "outputId": "2e525982-29b0-4005-d64a-a0399c399dd2"
      },
      "execution_count": 5,
      "outputs": [
        {
          "output_type": "execute_result",
          "data": {
            "text/plain": [
              "             id                                               name   host_id  \\\n",
              "48890  36484665    Charming one bedroom - newly renovated rowhouse   8232441   \n",
              "48891  36485057      Affordable room in Bushwick/East Williamsburg   6570630   \n",
              "48892  36485431            Sunny Studio at Historical Neighborhood  23492952   \n",
              "48893  36485609               43rd St. Time Square-cozy single bed  30985759   \n",
              "48894  36487245  Trendy duplex in the very heart of Hell's Kitchen  68119814   \n",
              "\n",
              "           host_name neighbourhood_group       neighbourhood  latitude  \\\n",
              "48890        Sabrina            Brooklyn  Bedford-Stuyvesant  40.67853   \n",
              "48891        Marisol            Brooklyn            Bushwick  40.70184   \n",
              "48892  Ilgar & Aysel           Manhattan              Harlem  40.81475   \n",
              "48893            Taz           Manhattan      Hell's Kitchen  40.75751   \n",
              "48894     Christophe           Manhattan      Hell's Kitchen  40.76404   \n",
              "\n",
              "       longitude        room_type  price  minimum_nights  number_of_reviews  \\\n",
              "48890  -73.94995     Private room     70               2                  0   \n",
              "48891  -73.93317     Private room     40               4                  0   \n",
              "48892  -73.94867  Entire home/apt    115              10                  0   \n",
              "48893  -73.99112      Shared room     55               1                  0   \n",
              "48894  -73.98933     Private room     90               7                  0   \n",
              "\n",
              "      last_review  reviews_per_month  calculated_host_listings_count  \\\n",
              "48890         NaN                NaN                               2   \n",
              "48891         NaN                NaN                               2   \n",
              "48892         NaN                NaN                               1   \n",
              "48893         NaN                NaN                               6   \n",
              "48894         NaN                NaN                               1   \n",
              "\n",
              "       availability_365  \n",
              "48890                 9  \n",
              "48891                36  \n",
              "48892                27  \n",
              "48893                 2  \n",
              "48894                23  "
            ],
            "text/html": [
              "\n",
              "  <div id=\"df-b22464a7-7df7-4360-ab1d-cd209a996693\">\n",
              "    <div class=\"colab-df-container\">\n",
              "      <div>\n",
              "<style scoped>\n",
              "    .dataframe tbody tr th:only-of-type {\n",
              "        vertical-align: middle;\n",
              "    }\n",
              "\n",
              "    .dataframe tbody tr th {\n",
              "        vertical-align: top;\n",
              "    }\n",
              "\n",
              "    .dataframe thead th {\n",
              "        text-align: right;\n",
              "    }\n",
              "</style>\n",
              "<table border=\"1\" class=\"dataframe\">\n",
              "  <thead>\n",
              "    <tr style=\"text-align: right;\">\n",
              "      <th></th>\n",
              "      <th>id</th>\n",
              "      <th>name</th>\n",
              "      <th>host_id</th>\n",
              "      <th>host_name</th>\n",
              "      <th>neighbourhood_group</th>\n",
              "      <th>neighbourhood</th>\n",
              "      <th>latitude</th>\n",
              "      <th>longitude</th>\n",
              "      <th>room_type</th>\n",
              "      <th>price</th>\n",
              "      <th>minimum_nights</th>\n",
              "      <th>number_of_reviews</th>\n",
              "      <th>last_review</th>\n",
              "      <th>reviews_per_month</th>\n",
              "      <th>calculated_host_listings_count</th>\n",
              "      <th>availability_365</th>\n",
              "    </tr>\n",
              "  </thead>\n",
              "  <tbody>\n",
              "    <tr>\n",
              "      <th>48890</th>\n",
              "      <td>36484665</td>\n",
              "      <td>Charming one bedroom - newly renovated rowhouse</td>\n",
              "      <td>8232441</td>\n",
              "      <td>Sabrina</td>\n",
              "      <td>Brooklyn</td>\n",
              "      <td>Bedford-Stuyvesant</td>\n",
              "      <td>40.67853</td>\n",
              "      <td>-73.94995</td>\n",
              "      <td>Private room</td>\n",
              "      <td>70</td>\n",
              "      <td>2</td>\n",
              "      <td>0</td>\n",
              "      <td>NaN</td>\n",
              "      <td>NaN</td>\n",
              "      <td>2</td>\n",
              "      <td>9</td>\n",
              "    </tr>\n",
              "    <tr>\n",
              "      <th>48891</th>\n",
              "      <td>36485057</td>\n",
              "      <td>Affordable room in Bushwick/East Williamsburg</td>\n",
              "      <td>6570630</td>\n",
              "      <td>Marisol</td>\n",
              "      <td>Brooklyn</td>\n",
              "      <td>Bushwick</td>\n",
              "      <td>40.70184</td>\n",
              "      <td>-73.93317</td>\n",
              "      <td>Private room</td>\n",
              "      <td>40</td>\n",
              "      <td>4</td>\n",
              "      <td>0</td>\n",
              "      <td>NaN</td>\n",
              "      <td>NaN</td>\n",
              "      <td>2</td>\n",
              "      <td>36</td>\n",
              "    </tr>\n",
              "    <tr>\n",
              "      <th>48892</th>\n",
              "      <td>36485431</td>\n",
              "      <td>Sunny Studio at Historical Neighborhood</td>\n",
              "      <td>23492952</td>\n",
              "      <td>Ilgar &amp; Aysel</td>\n",
              "      <td>Manhattan</td>\n",
              "      <td>Harlem</td>\n",
              "      <td>40.81475</td>\n",
              "      <td>-73.94867</td>\n",
              "      <td>Entire home/apt</td>\n",
              "      <td>115</td>\n",
              "      <td>10</td>\n",
              "      <td>0</td>\n",
              "      <td>NaN</td>\n",
              "      <td>NaN</td>\n",
              "      <td>1</td>\n",
              "      <td>27</td>\n",
              "    </tr>\n",
              "    <tr>\n",
              "      <th>48893</th>\n",
              "      <td>36485609</td>\n",
              "      <td>43rd St. Time Square-cozy single bed</td>\n",
              "      <td>30985759</td>\n",
              "      <td>Taz</td>\n",
              "      <td>Manhattan</td>\n",
              "      <td>Hell's Kitchen</td>\n",
              "      <td>40.75751</td>\n",
              "      <td>-73.99112</td>\n",
              "      <td>Shared room</td>\n",
              "      <td>55</td>\n",
              "      <td>1</td>\n",
              "      <td>0</td>\n",
              "      <td>NaN</td>\n",
              "      <td>NaN</td>\n",
              "      <td>6</td>\n",
              "      <td>2</td>\n",
              "    </tr>\n",
              "    <tr>\n",
              "      <th>48894</th>\n",
              "      <td>36487245</td>\n",
              "      <td>Trendy duplex in the very heart of Hell's Kitchen</td>\n",
              "      <td>68119814</td>\n",
              "      <td>Christophe</td>\n",
              "      <td>Manhattan</td>\n",
              "      <td>Hell's Kitchen</td>\n",
              "      <td>40.76404</td>\n",
              "      <td>-73.98933</td>\n",
              "      <td>Private room</td>\n",
              "      <td>90</td>\n",
              "      <td>7</td>\n",
              "      <td>0</td>\n",
              "      <td>NaN</td>\n",
              "      <td>NaN</td>\n",
              "      <td>1</td>\n",
              "      <td>23</td>\n",
              "    </tr>\n",
              "  </tbody>\n",
              "</table>\n",
              "</div>\n",
              "      <button class=\"colab-df-convert\" onclick=\"convertToInteractive('df-b22464a7-7df7-4360-ab1d-cd209a996693')\"\n",
              "              title=\"Convert this dataframe to an interactive table.\"\n",
              "              style=\"display:none;\">\n",
              "        \n",
              "  <svg xmlns=\"http://www.w3.org/2000/svg\" height=\"24px\"viewBox=\"0 0 24 24\"\n",
              "       width=\"24px\">\n",
              "    <path d=\"M0 0h24v24H0V0z\" fill=\"none\"/>\n",
              "    <path d=\"M18.56 5.44l.94 2.06.94-2.06 2.06-.94-2.06-.94-.94-2.06-.94 2.06-2.06.94zm-11 1L8.5 8.5l.94-2.06 2.06-.94-2.06-.94L8.5 2.5l-.94 2.06-2.06.94zm10 10l.94 2.06.94-2.06 2.06-.94-2.06-.94-.94-2.06-.94 2.06-2.06.94z\"/><path d=\"M17.41 7.96l-1.37-1.37c-.4-.4-.92-.59-1.43-.59-.52 0-1.04.2-1.43.59L10.3 9.45l-7.72 7.72c-.78.78-.78 2.05 0 2.83L4 21.41c.39.39.9.59 1.41.59.51 0 1.02-.2 1.41-.59l7.78-7.78 2.81-2.81c.8-.78.8-2.07 0-2.86zM5.41 20L4 18.59l7.72-7.72 1.47 1.35L5.41 20z\"/>\n",
              "  </svg>\n",
              "      </button>\n",
              "      \n",
              "  <style>\n",
              "    .colab-df-container {\n",
              "      display:flex;\n",
              "      flex-wrap:wrap;\n",
              "      gap: 12px;\n",
              "    }\n",
              "\n",
              "    .colab-df-convert {\n",
              "      background-color: #E8F0FE;\n",
              "      border: none;\n",
              "      border-radius: 50%;\n",
              "      cursor: pointer;\n",
              "      display: none;\n",
              "      fill: #1967D2;\n",
              "      height: 32px;\n",
              "      padding: 0 0 0 0;\n",
              "      width: 32px;\n",
              "    }\n",
              "\n",
              "    .colab-df-convert:hover {\n",
              "      background-color: #E2EBFA;\n",
              "      box-shadow: 0px 1px 2px rgba(60, 64, 67, 0.3), 0px 1px 3px 1px rgba(60, 64, 67, 0.15);\n",
              "      fill: #174EA6;\n",
              "    }\n",
              "\n",
              "    [theme=dark] .colab-df-convert {\n",
              "      background-color: #3B4455;\n",
              "      fill: #D2E3FC;\n",
              "    }\n",
              "\n",
              "    [theme=dark] .colab-df-convert:hover {\n",
              "      background-color: #434B5C;\n",
              "      box-shadow: 0px 1px 3px 1px rgba(0, 0, 0, 0.15);\n",
              "      filter: drop-shadow(0px 1px 2px rgba(0, 0, 0, 0.3));\n",
              "      fill: #FFFFFF;\n",
              "    }\n",
              "  </style>\n",
              "\n",
              "      <script>\n",
              "        const buttonEl =\n",
              "          document.querySelector('#df-b22464a7-7df7-4360-ab1d-cd209a996693 button.colab-df-convert');\n",
              "        buttonEl.style.display =\n",
              "          google.colab.kernel.accessAllowed ? 'block' : 'none';\n",
              "\n",
              "        async function convertToInteractive(key) {\n",
              "          const element = document.querySelector('#df-b22464a7-7df7-4360-ab1d-cd209a996693');\n",
              "          const dataTable =\n",
              "            await google.colab.kernel.invokeFunction('convertToInteractive',\n",
              "                                                     [key], {});\n",
              "          if (!dataTable) return;\n",
              "\n",
              "          const docLinkHtml = 'Like what you see? Visit the ' +\n",
              "            '<a target=\"_blank\" href=https://colab.research.google.com/notebooks/data_table.ipynb>data table notebook</a>'\n",
              "            + ' to learn more about interactive tables.';\n",
              "          element.innerHTML = '';\n",
              "          dataTable['output_type'] = 'display_data';\n",
              "          await google.colab.output.renderOutput(dataTable, element);\n",
              "          const docLink = document.createElement('div');\n",
              "          docLink.innerHTML = docLinkHtml;\n",
              "          element.appendChild(docLink);\n",
              "        }\n",
              "      </script>\n",
              "    </div>\n",
              "  </div>\n",
              "  "
            ]
          },
          "metadata": {},
          "execution_count": 5
        }
      ]
    },
    {
      "cell_type": "markdown",
      "source": [
        "# **3. Summary**"
      ],
      "metadata": {
        "id": "J5W4ve6521Ni"
      }
    },
    {
      "cell_type": "code",
      "source": [
        "bnb_df.info()"
      ],
      "metadata": {
        "colab": {
          "base_uri": "https://localhost:8080/"
        },
        "id": "jhqJwhsem83g",
        "outputId": "80a154c1-3a35-4701-979e-c624f449452c"
      },
      "execution_count": 6,
      "outputs": [
        {
          "output_type": "stream",
          "name": "stdout",
          "text": [
            "<class 'pandas.core.frame.DataFrame'>\n",
            "RangeIndex: 48895 entries, 0 to 48894\n",
            "Data columns (total 16 columns):\n",
            " #   Column                          Non-Null Count  Dtype  \n",
            "---  ------                          --------------  -----  \n",
            " 0   id                              48895 non-null  int64  \n",
            " 1   name                            48879 non-null  object \n",
            " 2   host_id                         48895 non-null  int64  \n",
            " 3   host_name                       48874 non-null  object \n",
            " 4   neighbourhood_group             48895 non-null  object \n",
            " 5   neighbourhood                   48895 non-null  object \n",
            " 6   latitude                        48895 non-null  float64\n",
            " 7   longitude                       48895 non-null  float64\n",
            " 8   room_type                       48895 non-null  object \n",
            " 9   price                           48895 non-null  int64  \n",
            " 10  minimum_nights                  48895 non-null  int64  \n",
            " 11  number_of_reviews               48895 non-null  int64  \n",
            " 12  last_review                     38843 non-null  object \n",
            " 13  reviews_per_month               38843 non-null  float64\n",
            " 14  calculated_host_listings_count  48895 non-null  int64  \n",
            " 15  availability_365                48895 non-null  int64  \n",
            "dtypes: float64(3), int64(7), object(6)\n",
            "memory usage: 6.0+ MB\n"
          ]
        }
      ]
    },
    {
      "cell_type": "code",
      "source": [
        "bnb_df.describe()"
      ],
      "metadata": {
        "colab": {
          "base_uri": "https://localhost:8080/",
          "height": 364
        },
        "id": "lwEHKhzrpYXP",
        "outputId": "4acd46a3-289c-401d-b014-08fb81dea301"
      },
      "execution_count": 7,
      "outputs": [
        {
          "output_type": "execute_result",
          "data": {
            "text/plain": [
              "                 id       host_id      latitude     longitude         price  \\\n",
              "count  4.889500e+04  4.889500e+04  48895.000000  48895.000000  48895.000000   \n",
              "mean   1.901714e+07  6.762001e+07     40.728949    -73.952170    152.720687   \n",
              "std    1.098311e+07  7.861097e+07      0.054530      0.046157    240.154170   \n",
              "min    2.539000e+03  2.438000e+03     40.499790    -74.244420      0.000000   \n",
              "25%    9.471945e+06  7.822033e+06     40.690100    -73.983070     69.000000   \n",
              "50%    1.967728e+07  3.079382e+07     40.723070    -73.955680    106.000000   \n",
              "75%    2.915218e+07  1.074344e+08     40.763115    -73.936275    175.000000   \n",
              "max    3.648724e+07  2.743213e+08     40.913060    -73.712990  10000.000000   \n",
              "\n",
              "       minimum_nights  number_of_reviews  reviews_per_month  \\\n",
              "count    48895.000000       48895.000000       38843.000000   \n",
              "mean         7.029962          23.274466           1.373221   \n",
              "std         20.510550          44.550582           1.680442   \n",
              "min          1.000000           0.000000           0.010000   \n",
              "25%          1.000000           1.000000           0.190000   \n",
              "50%          3.000000           5.000000           0.720000   \n",
              "75%          5.000000          24.000000           2.020000   \n",
              "max       1250.000000         629.000000          58.500000   \n",
              "\n",
              "       calculated_host_listings_count  availability_365  \n",
              "count                    48895.000000      48895.000000  \n",
              "mean                         7.143982        112.781327  \n",
              "std                         32.952519        131.622289  \n",
              "min                          1.000000          0.000000  \n",
              "25%                          1.000000          0.000000  \n",
              "50%                          1.000000         45.000000  \n",
              "75%                          2.000000        227.000000  \n",
              "max                        327.000000        365.000000  "
            ],
            "text/html": [
              "\n",
              "  <div id=\"df-da66a320-1e12-4653-add8-3e8633b194bd\">\n",
              "    <div class=\"colab-df-container\">\n",
              "      <div>\n",
              "<style scoped>\n",
              "    .dataframe tbody tr th:only-of-type {\n",
              "        vertical-align: middle;\n",
              "    }\n",
              "\n",
              "    .dataframe tbody tr th {\n",
              "        vertical-align: top;\n",
              "    }\n",
              "\n",
              "    .dataframe thead th {\n",
              "        text-align: right;\n",
              "    }\n",
              "</style>\n",
              "<table border=\"1\" class=\"dataframe\">\n",
              "  <thead>\n",
              "    <tr style=\"text-align: right;\">\n",
              "      <th></th>\n",
              "      <th>id</th>\n",
              "      <th>host_id</th>\n",
              "      <th>latitude</th>\n",
              "      <th>longitude</th>\n",
              "      <th>price</th>\n",
              "      <th>minimum_nights</th>\n",
              "      <th>number_of_reviews</th>\n",
              "      <th>reviews_per_month</th>\n",
              "      <th>calculated_host_listings_count</th>\n",
              "      <th>availability_365</th>\n",
              "    </tr>\n",
              "  </thead>\n",
              "  <tbody>\n",
              "    <tr>\n",
              "      <th>count</th>\n",
              "      <td>4.889500e+04</td>\n",
              "      <td>4.889500e+04</td>\n",
              "      <td>48895.000000</td>\n",
              "      <td>48895.000000</td>\n",
              "      <td>48895.000000</td>\n",
              "      <td>48895.000000</td>\n",
              "      <td>48895.000000</td>\n",
              "      <td>38843.000000</td>\n",
              "      <td>48895.000000</td>\n",
              "      <td>48895.000000</td>\n",
              "    </tr>\n",
              "    <tr>\n",
              "      <th>mean</th>\n",
              "      <td>1.901714e+07</td>\n",
              "      <td>6.762001e+07</td>\n",
              "      <td>40.728949</td>\n",
              "      <td>-73.952170</td>\n",
              "      <td>152.720687</td>\n",
              "      <td>7.029962</td>\n",
              "      <td>23.274466</td>\n",
              "      <td>1.373221</td>\n",
              "      <td>7.143982</td>\n",
              "      <td>112.781327</td>\n",
              "    </tr>\n",
              "    <tr>\n",
              "      <th>std</th>\n",
              "      <td>1.098311e+07</td>\n",
              "      <td>7.861097e+07</td>\n",
              "      <td>0.054530</td>\n",
              "      <td>0.046157</td>\n",
              "      <td>240.154170</td>\n",
              "      <td>20.510550</td>\n",
              "      <td>44.550582</td>\n",
              "      <td>1.680442</td>\n",
              "      <td>32.952519</td>\n",
              "      <td>131.622289</td>\n",
              "    </tr>\n",
              "    <tr>\n",
              "      <th>min</th>\n",
              "      <td>2.539000e+03</td>\n",
              "      <td>2.438000e+03</td>\n",
              "      <td>40.499790</td>\n",
              "      <td>-74.244420</td>\n",
              "      <td>0.000000</td>\n",
              "      <td>1.000000</td>\n",
              "      <td>0.000000</td>\n",
              "      <td>0.010000</td>\n",
              "      <td>1.000000</td>\n",
              "      <td>0.000000</td>\n",
              "    </tr>\n",
              "    <tr>\n",
              "      <th>25%</th>\n",
              "      <td>9.471945e+06</td>\n",
              "      <td>7.822033e+06</td>\n",
              "      <td>40.690100</td>\n",
              "      <td>-73.983070</td>\n",
              "      <td>69.000000</td>\n",
              "      <td>1.000000</td>\n",
              "      <td>1.000000</td>\n",
              "      <td>0.190000</td>\n",
              "      <td>1.000000</td>\n",
              "      <td>0.000000</td>\n",
              "    </tr>\n",
              "    <tr>\n",
              "      <th>50%</th>\n",
              "      <td>1.967728e+07</td>\n",
              "      <td>3.079382e+07</td>\n",
              "      <td>40.723070</td>\n",
              "      <td>-73.955680</td>\n",
              "      <td>106.000000</td>\n",
              "      <td>3.000000</td>\n",
              "      <td>5.000000</td>\n",
              "      <td>0.720000</td>\n",
              "      <td>1.000000</td>\n",
              "      <td>45.000000</td>\n",
              "    </tr>\n",
              "    <tr>\n",
              "      <th>75%</th>\n",
              "      <td>2.915218e+07</td>\n",
              "      <td>1.074344e+08</td>\n",
              "      <td>40.763115</td>\n",
              "      <td>-73.936275</td>\n",
              "      <td>175.000000</td>\n",
              "      <td>5.000000</td>\n",
              "      <td>24.000000</td>\n",
              "      <td>2.020000</td>\n",
              "      <td>2.000000</td>\n",
              "      <td>227.000000</td>\n",
              "    </tr>\n",
              "    <tr>\n",
              "      <th>max</th>\n",
              "      <td>3.648724e+07</td>\n",
              "      <td>2.743213e+08</td>\n",
              "      <td>40.913060</td>\n",
              "      <td>-73.712990</td>\n",
              "      <td>10000.000000</td>\n",
              "      <td>1250.000000</td>\n",
              "      <td>629.000000</td>\n",
              "      <td>58.500000</td>\n",
              "      <td>327.000000</td>\n",
              "      <td>365.000000</td>\n",
              "    </tr>\n",
              "  </tbody>\n",
              "</table>\n",
              "</div>\n",
              "      <button class=\"colab-df-convert\" onclick=\"convertToInteractive('df-da66a320-1e12-4653-add8-3e8633b194bd')\"\n",
              "              title=\"Convert this dataframe to an interactive table.\"\n",
              "              style=\"display:none;\">\n",
              "        \n",
              "  <svg xmlns=\"http://www.w3.org/2000/svg\" height=\"24px\"viewBox=\"0 0 24 24\"\n",
              "       width=\"24px\">\n",
              "    <path d=\"M0 0h24v24H0V0z\" fill=\"none\"/>\n",
              "    <path d=\"M18.56 5.44l.94 2.06.94-2.06 2.06-.94-2.06-.94-.94-2.06-.94 2.06-2.06.94zm-11 1L8.5 8.5l.94-2.06 2.06-.94-2.06-.94L8.5 2.5l-.94 2.06-2.06.94zm10 10l.94 2.06.94-2.06 2.06-.94-2.06-.94-.94-2.06-.94 2.06-2.06.94z\"/><path d=\"M17.41 7.96l-1.37-1.37c-.4-.4-.92-.59-1.43-.59-.52 0-1.04.2-1.43.59L10.3 9.45l-7.72 7.72c-.78.78-.78 2.05 0 2.83L4 21.41c.39.39.9.59 1.41.59.51 0 1.02-.2 1.41-.59l7.78-7.78 2.81-2.81c.8-.78.8-2.07 0-2.86zM5.41 20L4 18.59l7.72-7.72 1.47 1.35L5.41 20z\"/>\n",
              "  </svg>\n",
              "      </button>\n",
              "      \n",
              "  <style>\n",
              "    .colab-df-container {\n",
              "      display:flex;\n",
              "      flex-wrap:wrap;\n",
              "      gap: 12px;\n",
              "    }\n",
              "\n",
              "    .colab-df-convert {\n",
              "      background-color: #E8F0FE;\n",
              "      border: none;\n",
              "      border-radius: 50%;\n",
              "      cursor: pointer;\n",
              "      display: none;\n",
              "      fill: #1967D2;\n",
              "      height: 32px;\n",
              "      padding: 0 0 0 0;\n",
              "      width: 32px;\n",
              "    }\n",
              "\n",
              "    .colab-df-convert:hover {\n",
              "      background-color: #E2EBFA;\n",
              "      box-shadow: 0px 1px 2px rgba(60, 64, 67, 0.3), 0px 1px 3px 1px rgba(60, 64, 67, 0.15);\n",
              "      fill: #174EA6;\n",
              "    }\n",
              "\n",
              "    [theme=dark] .colab-df-convert {\n",
              "      background-color: #3B4455;\n",
              "      fill: #D2E3FC;\n",
              "    }\n",
              "\n",
              "    [theme=dark] .colab-df-convert:hover {\n",
              "      background-color: #434B5C;\n",
              "      box-shadow: 0px 1px 3px 1px rgba(0, 0, 0, 0.15);\n",
              "      filter: drop-shadow(0px 1px 2px rgba(0, 0, 0, 0.3));\n",
              "      fill: #FFFFFF;\n",
              "    }\n",
              "  </style>\n",
              "\n",
              "      <script>\n",
              "        const buttonEl =\n",
              "          document.querySelector('#df-da66a320-1e12-4653-add8-3e8633b194bd button.colab-df-convert');\n",
              "        buttonEl.style.display =\n",
              "          google.colab.kernel.accessAllowed ? 'block' : 'none';\n",
              "\n",
              "        async function convertToInteractive(key) {\n",
              "          const element = document.querySelector('#df-da66a320-1e12-4653-add8-3e8633b194bd');\n",
              "          const dataTable =\n",
              "            await google.colab.kernel.invokeFunction('convertToInteractive',\n",
              "                                                     [key], {});\n",
              "          if (!dataTable) return;\n",
              "\n",
              "          const docLinkHtml = 'Like what you see? Visit the ' +\n",
              "            '<a target=\"_blank\" href=https://colab.research.google.com/notebooks/data_table.ipynb>data table notebook</a>'\n",
              "            + ' to learn more about interactive tables.';\n",
              "          element.innerHTML = '';\n",
              "          dataTable['output_type'] = 'display_data';\n",
              "          await google.colab.output.renderOutput(dataTable, element);\n",
              "          const docLink = document.createElement('div');\n",
              "          docLink.innerHTML = docLinkHtml;\n",
              "          element.appendChild(docLink);\n",
              "        }\n",
              "      </script>\n",
              "    </div>\n",
              "  </div>\n",
              "  "
            ]
          },
          "metadata": {},
          "execution_count": 7
        }
      ]
    },
    {
      "cell_type": "markdown",
      "source": [
        "# **4. Data Dictionary**"
      ],
      "metadata": {
        "id": "n2PbYTRJ276K"
      }
    },
    {
      "cell_type": "code",
      "source": [
        "data_dict= {'id:':'Booking ID', 'name:':'Residence Type', 'host_id:':'Customer ID', 'host_name:':'Customer Name', 'neighbourhood_group:':'Neighbourhood Group name', \\\n",
        "            'neighbourhood:':'neighbourhood name', 'latitude:':'latitude', 'longitude:':'longitude', 'room_type:':'Type of room-- Private/Shared/Entire_home', \\\n",
        "            'price:':'Price of home per night', 'minimum_nights:':'minimum nights of booking allowded', 'number_of_reviews:':'Count of cutomer revies', \\\n",
        "            'last_review:':'Date of last review submitted by customer', 'reviews_per_month:':'average reviews per month', 'calculated_host_listings_count:':'number of time property is listed', \\\n",
        "            'availability_365:':'Number of days rooms available in a year'}"
      ],
      "metadata": {
        "id": "jiYUlCcp07A0"
      },
      "execution_count": 8,
      "outputs": []
    },
    {
      "cell_type": "code",
      "source": [
        "for key,value in data_dict.items():\n",
        "  print(key.upper(), value)"
      ],
      "metadata": {
        "colab": {
          "base_uri": "https://localhost:8080/"
        },
        "id": "En_kBS3nBDqO",
        "outputId": "989de9bb-7d25-483d-d30e-913400652da2"
      },
      "execution_count": 9,
      "outputs": [
        {
          "output_type": "stream",
          "name": "stdout",
          "text": [
            "ID: Booking ID\n",
            "NAME: Residence Type\n",
            "HOST_ID: Customer ID\n",
            "HOST_NAME: Customer Name\n",
            "NEIGHBOURHOOD_GROUP: Neighbourhood Group name\n",
            "NEIGHBOURHOOD: neighbourhood name\n",
            "LATITUDE: latitude\n",
            "LONGITUDE: longitude\n",
            "ROOM_TYPE: Type of room-- Private/Shared/Entire_home\n",
            "PRICE: Price of home per night\n",
            "MINIMUM_NIGHTS: minimum nights of booking allowded\n",
            "NUMBER_OF_REVIEWS: Count of cutomer revies\n",
            "LAST_REVIEW: Date of last review submitted by customer\n",
            "REVIEWS_PER_MONTH: average reviews per month\n",
            "CALCULATED_HOST_LISTINGS_COUNT: number of time property is listed\n",
            "AVAILABILITY_365: Number of days rooms available in a year\n"
          ]
        }
      ]
    },
    {
      "cell_type": "markdown",
      "source": [
        "## **Handling the NULL values.**\n",
        "Under Summary section we can see there may be some NULL/NaN vales in the dataset. The below code will help in removing all NULL values."
      ],
      "metadata": {
        "id": "lFJ4yTl-xYuF"
      }
    },
    {
      "cell_type": "code",
      "source": [
        "#Missing Value Count function\n",
        "def show_missing():\n",
        "  missing=list(bnb_df.columns[bnb_df.isnull().any()])\n",
        "  return missing\n",
        "\n",
        "#Missing data count and percentage of data missing in each column\n",
        "print('Missing Data Count')\n",
        "print(bnb_df[show_missing()].isnull().sum().sort_values(ascending = False))\n",
        "print('--'*50)\n",
        "print('Missing Data Percentage')\n",
        "print(round(bnb_df[show_missing()].isnull().sum().sort_values(ascending = False)/len(bnb_df)*100,2))"
      ],
      "metadata": {
        "id": "DI5jK1YV5w2b",
        "colab": {
          "base_uri": "https://localhost:8080/"
        },
        "outputId": "fd77341a-0f09-448c-9a1a-b918b5d2cb19"
      },
      "execution_count": 10,
      "outputs": [
        {
          "output_type": "stream",
          "name": "stdout",
          "text": [
            "Missing Data Count\n",
            "last_review          10052\n",
            "reviews_per_month    10052\n",
            "host_name               21\n",
            "name                    16\n",
            "dtype: int64\n",
            "----------------------------------------------------------------------------------------------------\n",
            "Missing Data Percentage\n",
            "last_review          20.56\n",
            "reviews_per_month    20.56\n",
            "host_name             0.04\n",
            "name                  0.03\n",
            "dtype: float64\n"
          ]
        }
      ]
    },
    {
      "cell_type": "markdown",
      "source": [
        "# The number of missing values for each column does not exceed 20 percentage of the total observations. So we can apply different measures to fill the NaN values. "
      ],
      "metadata": {
        "id": "VkF04K7ICNL9"
      }
    },
    {
      "cell_type": "markdown",
      "source": [
        "\n",
        "*  Reviews Per Month\n",
        "\n",
        "\n",
        "\n",
        "\n",
        "\n",
        "\n"
      ],
      "metadata": {
        "id": "v3dCAaQv-EP5"
      }
    },
    {
      "cell_type": "code",
      "source": [
        "sns.distplot(bnb_df['reviews_per_month'])"
      ],
      "metadata": {
        "colab": {
          "base_uri": "https://localhost:8080/",
          "height": 352
        },
        "id": "oEb73hxvEddC",
        "outputId": "50fc27c2-8bf2-4036-be80-4b389499d2a0"
      },
      "execution_count": 11,
      "outputs": [
        {
          "output_type": "stream",
          "name": "stderr",
          "text": [
            "/usr/local/lib/python3.7/dist-packages/seaborn/distributions.py:2619: FutureWarning: `distplot` is a deprecated function and will be removed in a future version. Please adapt your code to use either `displot` (a figure-level function with similar flexibility) or `histplot` (an axes-level function for histograms).\n",
            "  warnings.warn(msg, FutureWarning)\n"
          ]
        },
        {
          "output_type": "execute_result",
          "data": {
            "text/plain": [
              "<matplotlib.axes._subplots.AxesSubplot at 0x7f93881bf910>"
            ]
          },
          "metadata": {},
          "execution_count": 11
        },
        {
          "output_type": "display_data",
          "data": {
            "text/plain": [
              "<Figure size 432x288 with 1 Axes>"
            ],
            "image/png": "[encoded data removed]"
          },
          "metadata": {
            "needs_background": "light"
          }
        }
      ]
    },
    {
      "cell_type": "markdown",
      "source": [
        "As we can see above the distribuation plot is positively skewed that means replacing the NaN values in this column with mode is possible as the density id high for a small number of values."
      ],
      "metadata": {
        "id": "xCyKWy69-7wE"
      }
    },
    {
      "cell_type": "code",
      "source": [
        "bnb_df['reviews_per_month'] = bnb_df['reviews_per_month'].fillna(bnb_df['reviews_per_month'].median())\n",
        "print(\"After filling 'reviews_per_month':\",bnb_df['reviews_per_month'].isna().sum())\n",
        "bnb_df.shape"
      ],
      "metadata": {
        "colab": {
          "base_uri": "https://localhost:8080/"
        },
        "id": "vZqKF1cG-wG_",
        "outputId": "3f6d25d5-b0c3-4ed2-9d30-a2b53d87c18f"
      },
      "execution_count": 12,
      "outputs": [
        {
          "output_type": "stream",
          "name": "stdout",
          "text": [
            "After filling 'reviews_per_month': 0\n"
          ]
        },
        {
          "output_type": "execute_result",
          "data": {
            "text/plain": [
              "(48895, 16)"
            ]
          },
          "metadata": {},
          "execution_count": 12
        }
      ]
    },
    {
      "cell_type": "markdown",
      "source": [
        "Last Review"
      ],
      "metadata": {
        "id": "2M5rqCDOBZW6"
      }
    },
    {
      "cell_type": "markdown",
      "source": [
        "# Number of null values in last_review column"
      ],
      "metadata": {
        "id": "Tfa2eNYByJw-"
      }
    },
    {
      "cell_type": "code",
      "source": [
        "bnb_df['last_review'].isna().sum()"
      ],
      "metadata": {
        "colab": {
          "base_uri": "https://localhost:8080/"
        },
        "id": "SftnGlVTApQ0",
        "outputId": "119570b0-1d76-4864-873f-030847824b3b"
      },
      "execution_count": 13,
      "outputs": [
        {
          "output_type": "execute_result",
          "data": {
            "text/plain": [
              "10052"
            ]
          },
          "metadata": {},
          "execution_count": 13
        }
      ]
    },
    {
      "cell_type": "markdown",
      "source": [
        "Checking the type of data (data type)."
      ],
      "metadata": {
        "id": "RMHmdkd-CD6D"
      }
    },
    {
      "cell_type": "code",
      "source": [
        "type(bnb_df['last_review'][0])"
      ],
      "metadata": {
        "colab": {
          "base_uri": "https://localhost:8080/"
        },
        "id": "sMZ0L5wrBd4f",
        "outputId": "5cd32cda-fa79-4683-f7e8-41e819bbf8ff"
      },
      "execution_count": 14,
      "outputs": [
        {
          "output_type": "execute_result",
          "data": {
            "text/plain": [
              "str"
            ]
          },
          "metadata": {},
          "execution_count": 14
        }
      ]
    },
    {
      "cell_type": "code",
      "source": [
        "# def convert_to_date(datedata):\n",
        "#   converted=datetime.datetime.strptime(datedata,'%Y-%m-%d')\n",
        "#   return converted"
      ],
      "metadata": {
        "id": "lhJo7O7xJZKr"
      },
      "execution_count": 15,
      "outputs": []
    },
    {
      "cell_type": "code",
      "source": [
        "# bnb_df['last_review']=bnb_df.apply(lambda row: convert_to_date(row['last_review']),axis=1,result_type='expand' )"
      ],
      "metadata": {
        "id": "xSoZQchWJULZ"
      },
      "execution_count": 16,
      "outputs": []
    },
    {
      "cell_type": "code",
      "source": [
        "bnb_df['last_review']"
      ],
      "metadata": {
        "colab": {
          "base_uri": "https://localhost:8080/"
        },
        "id": "aWrilmFwQrKX",
        "outputId": "c3588a1f-3c51-4e6f-de3e-819812dd43d7"
      },
      "execution_count": 17,
      "outputs": [
        {
          "output_type": "execute_result",
          "data": {
            "text/plain": [
              "0        2018-10-19\n",
              "1        2019-05-21\n",
              "2               NaN\n",
              "3        2019-07-05\n",
              "4        2018-11-19\n",
              "            ...    \n",
              "48890           NaN\n",
              "48891           NaN\n",
              "48892           NaN\n",
              "48893           NaN\n",
              "48894           NaN\n",
              "Name: last_review, Length: 48895, dtype: object"
            ]
          },
          "metadata": {},
          "execution_count": 17
        }
      ]
    },
    {
      "cell_type": "code",
      "source": [
        "ax=bnb_df.groupby(['last_review']).count()['id']\n",
        "# axes=ax['id']\n",
        "# axes\n",
        "ax"
      ],
      "metadata": {
        "colab": {
          "base_uri": "https://localhost:8080/"
        },
        "id": "xsKtPaUffbSa",
        "outputId": "8f35f4ae-e13d-4f1c-dfcd-885f364a9c38"
      },
      "execution_count": 18,
      "outputs": [
        {
          "output_type": "execute_result",
          "data": {
            "text/plain": [
              "last_review\n",
              "2011-03-28      1\n",
              "2011-04-25      1\n",
              "2011-05-12      1\n",
              "2011-09-18      1\n",
              "2011-09-19      1\n",
              "             ... \n",
              "2019-07-04    330\n",
              "2019-07-05    580\n",
              "2019-07-06    565\n",
              "2019-07-07    718\n",
              "2019-07-08     89\n",
              "Name: id, Length: 1764, dtype: int64"
            ]
          },
          "metadata": {},
          "execution_count": 18
        }
      ]
    },
    {
      "cell_type": "code",
      "source": [
        "ax[ax>=100].plot()\n",
        "ax[ax>=10].plot()\n",
        "ax.plot()"
      ],
      "metadata": {
        "colab": {
          "base_uri": "https://localhost:8080/",
          "height": 297
        },
        "id": "MHhBWcBykVNA",
        "outputId": "0629d7d7-c3ca-46db-8ac7-ed8e087202b6"
      },
      "execution_count": 19,
      "outputs": [
        {
          "output_type": "execute_result",
          "data": {
            "text/plain": [
              "<matplotlib.axes._subplots.AxesSubplot at 0x7f938535a5d0>"
            ]
          },
          "metadata": {},
          "execution_count": 19
        },
        {
          "output_type": "display_data",
          "data": {
            "text/plain": [
              "<Figure size 432x288 with 1 Axes>"
            ],
            "image/png": "[encoded data removed]"
          },
          "metadata": {
            "needs_background": "light"
          }
        }
      ]
    },
    {
      "cell_type": "code",
      "source": [
        "ax.sum()"
      ],
      "metadata": {
        "colab": {
          "base_uri": "https://localhost:8080/"
        },
        "id": "0E_ZArR7kbct",
        "outputId": "f5a8bb3b-0adb-4fd6-93d1-180dd828bffc"
      },
      "execution_count": 20,
      "outputs": [
        {
          "output_type": "execute_result",
          "data": {
            "text/plain": [
              "38843"
            ]
          },
          "metadata": {},
          "execution_count": 20
        }
      ]
    },
    {
      "cell_type": "code",
      "source": [
        "sns.distplot(ax)"
      ],
      "metadata": {
        "colab": {
          "base_uri": "https://localhost:8080/",
          "height": 351
        },
        "id": "m6Oa2f2zxM6M",
        "outputId": "59b7c0f4-cd5b-4424-88bf-da4fe3cdc0b2"
      },
      "execution_count": 21,
      "outputs": [
        {
          "output_type": "stream",
          "name": "stderr",
          "text": [
            "/usr/local/lib/python3.7/dist-packages/seaborn/distributions.py:2619: FutureWarning: `distplot` is a deprecated function and will be removed in a future version. Please adapt your code to use either `displot` (a figure-level function with similar flexibility) or `histplot` (an axes-level function for histograms).\n",
            "  warnings.warn(msg, FutureWarning)\n"
          ]
        },
        {
          "output_type": "execute_result",
          "data": {
            "text/plain": [
              "<matplotlib.axes._subplots.AxesSubplot at 0x7f93852f9090>"
            ]
          },
          "metadata": {},
          "execution_count": 21
        },
        {
          "output_type": "display_data",
          "data": {
            "text/plain": [
              "<Figure size 432x288 with 1 Axes>"
            ],
            "image/png": "[encoded data removed]"
          },
          "metadata": {
            "needs_background": "light"
          }
        }
      ]
    },
    {
      "cell_type": "markdown",
      "source": [
        "Lets drop the values as NA from the last_review column. The values can not be handled by mean, median or mode beacuse these are not categorical or numerical.\n"
      ],
      "metadata": {
        "id": "ANvPWj5a0xJP"
      }
    },
    {
      "cell_type": "code",
      "source": [
        "bnb_df=bnb_df[bnb_df['last_review'].notna()]"
      ],
      "metadata": {
        "id": "pclHfEji0FrI"
      },
      "execution_count": 22,
      "outputs": []
    },
    {
      "cell_type": "code",
      "source": [
        "bnb_df.info()"
      ],
      "metadata": {
        "colab": {
          "base_uri": "https://localhost:8080/"
        },
        "id": "Xp9XHAK62Wlm",
        "outputId": "0b93540a-dbd7-4cd0-f902-472db1c93130"
      },
      "execution_count": 23,
      "outputs": [
        {
          "output_type": "stream",
          "name": "stdout",
          "text": [
            "<class 'pandas.core.frame.DataFrame'>\n",
            "Int64Index: 38843 entries, 0 to 48852\n",
            "Data columns (total 16 columns):\n",
            " #   Column                          Non-Null Count  Dtype  \n",
            "---  ------                          --------------  -----  \n",
            " 0   id                              38843 non-null  int64  \n",
            " 1   name                            38837 non-null  object \n",
            " 2   host_id                         38843 non-null  int64  \n",
            " 3   host_name                       38827 non-null  object \n",
            " 4   neighbourhood_group             38843 non-null  object \n",
            " 5   neighbourhood                   38843 non-null  object \n",
            " 6   latitude                        38843 non-null  float64\n",
            " 7   longitude                       38843 non-null  float64\n",
            " 8   room_type                       38843 non-null  object \n",
            " 9   price                           38843 non-null  int64  \n",
            " 10  minimum_nights                  38843 non-null  int64  \n",
            " 11  number_of_reviews               38843 non-null  int64  \n",
            " 12  last_review                     38843 non-null  object \n",
            " 13  reviews_per_month               38843 non-null  float64\n",
            " 14  calculated_host_listings_count  38843 non-null  int64  \n",
            " 15  availability_365                38843 non-null  int64  \n",
            "dtypes: float64(3), int64(7), object(6)\n",
            "memory usage: 5.0+ MB\n"
          ]
        }
      ]
    },
    {
      "cell_type": "code",
      "source": [
        "bnb_df['host_name'].isna().count()"
      ],
      "metadata": {
        "colab": {
          "base_uri": "https://localhost:8080/"
        },
        "id": "68wygl3iZRGc",
        "outputId": "5bc43c3e-ab7f-41fe-93c5-5b002c0afd8f"
      },
      "execution_count": 24,
      "outputs": [
        {
          "output_type": "execute_result",
          "data": {
            "text/plain": [
              "38843"
            ]
          },
          "metadata": {},
          "execution_count": 24
        }
      ]
    },
    {
      "cell_type": "markdown",
      "source": [
        "# Host Name"
      ],
      "metadata": {
        "id": "3ou8M2Oz3DQQ"
      }
    },
    {
      "cell_type": "markdown",
      "source": [
        "host_name and name are missing only 3% and 4% data respectively which can be imputed by most frequently occuring values i.e respective modes. As the host_name and name are not categorial hence we will handle them with frequent occurances which will save us from any more information loss."
      ],
      "metadata": {
        "id": "Uz_Uq1gc3I9O"
      }
    },
    {
      "cell_type": "code",
      "source": [
        "bnb_df['host_name']=bnb_df['host_name'].fillna('xyz', axis=0)"
      ],
      "metadata": {
        "colab": {
          "base_uri": "https://localhost:8080/"
        },
        "id": "T_J3BbyW4Pbl",
        "outputId": "bdc97e27-294a-4232-9ddf-9126cfda70d3"
      },
      "execution_count": 25,
      "outputs": [
        {
          "output_type": "stream",
          "name": "stderr",
          "text": [
            "/usr/local/lib/python3.7/dist-packages/ipykernel_launcher.py:1: SettingWithCopyWarning: \n",
            "A value is trying to be set on a copy of a slice from a DataFrame.\n",
            "Try using .loc[row_indexer,col_indexer] = value instead\n",
            "\n",
            "See the caveats in the documentation: https://pandas.pydata.org/pandas-docs/stable/user_guide/indexing.html#returning-a-view-versus-a-copy\n",
            "  \"\"\"Entry point for launching an IPython kernel.\n"
          ]
        }
      ]
    },
    {
      "cell_type": "code",
      "source": [
        "bnb_df[bnb_df['host_name']=='xyz']"
      ],
      "metadata": {
        "colab": {
          "base_uri": "https://localhost:8080/",
          "height": 1000
        },
        "id": "f33KQVaBZ4N7",
        "outputId": "d7b91381-7bbc-4148-efcd-cfb9f137c486"
      },
      "execution_count": 26,
      "outputs": [
        {
          "output_type": "execute_result",
          "data": {
            "text/plain": [
              "             id                                               name    host_id  \\\n",
              "360      100184                                          Bienvenue     526653   \n",
              "2700    1449546                            Cozy Studio in Flatbush    7779204   \n",
              "5745    4183989    SPRING in the City!! Zen-Style Tranquil Bedroom     919218   \n",
              "6582    4763327                Luxurious, best location, spa inc'l   24576978   \n",
              "8163    6292866                          Modern Quiet Gem Near All   32722063   \n",
              "8257    6360224                    Sunny, Private room in Bushwick   33134899   \n",
              "8852    6786181                       R&S Modern Spacious Hideaway   32722063   \n",
              "9817    7556587                               Sunny Room in Harlem   39608626   \n",
              "14040  10709846                 Sunny, spacious room in Greenpoint    7822683   \n",
              "14631  11553543                                  Cozy Room Astoria   26138712   \n",
              "15174  12113879     Sunny, Large West Village 1 BR Near Everything    5300585   \n",
              "19565  15648096              Spacious 2 bedroom close to Manhattan  100971588   \n",
              "27962  21867710  Amazing room in the centre on Manhatten! Welcome!  159156636   \n",
              "28042  21901156  Best Deal! Lovely place in Manhattan! Time Squ...  159156636   \n",
              "28274  21990808                 ***SLEEPING IN THE GOLDEN PLACE***  159156636   \n",
              "30570  23660605    Private Bedroom w/ Balcony view of Central Park  177146433   \n",
              "\n",
              "      host_name neighbourhood_group     neighbourhood  latitude  longitude  \\\n",
              "360         xyz              Queens    Queens Village  40.72413  -73.76133   \n",
              "2700        xyz            Brooklyn          Flatbush  40.64965  -73.96154   \n",
              "5745        xyz           Manhattan            Harlem  40.80606  -73.95061   \n",
              "6582        xyz            Brooklyn        Greenpoint  40.72035  -73.95355   \n",
              "8163        xyz            Brooklyn     East Flatbush  40.65263  -73.93215   \n",
              "8257        xyz            Brooklyn          Bushwick  40.70146  -73.92792   \n",
              "8852        xyz            Brooklyn     East Flatbush  40.64345  -73.93643   \n",
              "9817        xyz           Manhattan            Harlem  40.82929  -73.94182   \n",
              "14040       xyz            Brooklyn        Greenpoint  40.73539  -73.95838   \n",
              "14631       xyz              Queens  Ditmars Steinway  40.77587  -73.91775   \n",
              "15174       xyz           Manhattan           Chelsea  40.73949  -73.99801   \n",
              "19565       xyz               Bronx        Highbridge  40.83844  -73.92489   \n",
              "27962       xyz           Manhattan    Hell's Kitchen  40.75668  -73.99097   \n",
              "28042       xyz           Manhattan    Hell's Kitchen  40.75656  -73.99063   \n",
              "28274       xyz           Manhattan    Hell's Kitchen  40.75835  -73.99065   \n",
              "30570       xyz           Manhattan       East Harlem  40.79766  -73.94824   \n",
              "\n",
              "             room_type  price  minimum_nights  number_of_reviews last_review  \\\n",
              "360       Private room     50               1                 43  2019-07-08   \n",
              "2700   Entire home/apt    100              30                 49  2017-01-02   \n",
              "5745      Private room     86               3                 34  2019-05-23   \n",
              "6582   Entire home/apt    195               1                  1  2015-10-20   \n",
              "8163   Entire home/apt     85               2                182  2019-06-19   \n",
              "8257      Private room     37               1                  1  2015-07-01   \n",
              "8852   Entire home/apt    100               2                157  2019-06-19   \n",
              "9817      Private room     28               1                  1  2015-08-01   \n",
              "14040     Private room     55              10                  2  2016-11-05   \n",
              "14631     Private room     45               1                  5  2017-01-01   \n",
              "15174  Entire home/apt    220               4                 81  2019-07-02   \n",
              "19565  Entire home/apt     75               4                 37  2019-07-07   \n",
              "27962     Private room    120               1                 89  2019-01-01   \n",
              "28042     Private room    120               1                109  2019-01-01   \n",
              "28274     Private room    120               1                 88  2018-12-14   \n",
              "30570     Private room    139               1                  6  2018-08-12   \n",
              "\n",
              "       reviews_per_month  calculated_host_listings_count  availability_365  \n",
              "360                 0.45                               1                88  \n",
              "2700                0.69                               1               342  \n",
              "5745                1.00                               1               359  \n",
              "6582                0.02                               1                 0  \n",
              "8163                3.59                               2               318  \n",
              "8257                0.02                               1                 0  \n",
              "8852                3.18                               2               342  \n",
              "9817                0.02                               1                 0  \n",
              "14040               0.05                               1                 0  \n",
              "14631               0.13                               1                 0  \n",
              "15174               2.11                               1               217  \n",
              "19565               1.21                               1                26  \n",
              "27962               5.16                               3                 0  \n",
              "28042               5.97                               3                 0  \n",
              "28274               4.93                               3                 0  \n",
              "30570               0.46                               1                 0  "
            ],
            "text/html": [
              "\n",
              "  <div id=\"df-086fa8a2-7551-473f-b704-a7c43ea855b4\">\n",
              "    <div class=\"colab-df-container\">\n",
              "      <div>\n",
              "<style scoped>\n",
              "    .dataframe tbody tr th:only-of-type {\n",
              "        vertical-align: middle;\n",
              "    }\n",
              "\n",
              "    .dataframe tbody tr th {\n",
              "        vertical-align: top;\n",
              "    }\n",
              "\n",
              "    .dataframe thead th {\n",
              "        text-align: right;\n",
              "    }\n",
              "</style>\n",
              "<table border=\"1\" class=\"dataframe\">\n",
              "  <thead>\n",
              "    <tr style=\"text-align: right;\">\n",
              "      <th></th>\n",
              "      <th>id</th>\n",
              "      <th>name</th>\n",
              "      <th>host_id</th>\n",
              "      <th>host_name</th>\n",
              "      <th>neighbourhood_group</th>\n",
              "      <th>neighbourhood</th>\n",
              "      <th>latitude</th>\n",
              "      <th>longitude</th>\n",
              "      <th>room_type</th>\n",
              "      <th>price</th>\n",
              "      <th>minimum_nights</th>\n",
              "      <th>number_of_reviews</th>\n",
              "      <th>last_review</th>\n",
              "      <th>reviews_per_month</th>\n",
              "      <th>calculated_host_listings_count</th>\n",
              "      <th>availability_365</th>\n",
              "    </tr>\n",
              "  </thead>\n",
              "  <tbody>\n",
              "    <tr>\n",
              "      <th>360</th>\n",
              "      <td>100184</td>\n",
              "      <td>Bienvenue</td>\n",
              "      <td>526653</td>\n",
              "      <td>xyz</td>\n",
              "      <td>Queens</td>\n",
              "      <td>Queens Village</td>\n",
              "      <td>40.72413</td>\n",
              "      <td>-73.76133</td>\n",
              "      <td>Private room</td>\n",
              "      <td>50</td>\n",
              "      <td>1</td>\n",
              "      <td>43</td>\n",
              "      <td>2019-07-08</td>\n",
              "      <td>0.45</td>\n",
              "      <td>1</td>\n",
              "      <td>88</td>\n",
              "    </tr>\n",
              "    <tr>\n",
              "      <th>2700</th>\n",
              "      <td>1449546</td>\n",
              "      <td>Cozy Studio in Flatbush</td>\n",
              "      <td>7779204</td>\n",
              "      <td>xyz</td>\n",
              "      <td>Brooklyn</td>\n",
              "      <td>Flatbush</td>\n",
              "      <td>40.64965</td>\n",
              "      <td>-73.96154</td>\n",
              "      <td>Entire home/apt</td>\n",
              "      <td>100</td>\n",
              "      <td>30</td>\n",
              "      <td>49</td>\n",
              "      <td>2017-01-02</td>\n",
              "      <td>0.69</td>\n",
              "      <td>1</td>\n",
              "      <td>342</td>\n",
              "    </tr>\n",
              "    <tr>\n",
              "      <th>5745</th>\n",
              "      <td>4183989</td>\n",
              "      <td>SPRING in the City!! Zen-Style Tranquil Bedroom</td>\n",
              "      <td>919218</td>\n",
              "      <td>xyz</td>\n",
              "      <td>Manhattan</td>\n",
              "      <td>Harlem</td>\n",
              "      <td>40.80606</td>\n",
              "      <td>-73.95061</td>\n",
              "      <td>Private room</td>\n",
              "      <td>86</td>\n",
              "      <td>3</td>\n",
              "      <td>34</td>\n",
              "      <td>2019-05-23</td>\n",
              "      <td>1.00</td>\n",
              "      <td>1</td>\n",
              "      <td>359</td>\n",
              "    </tr>\n",
              "    <tr>\n",
              "      <th>6582</th>\n",
              "      <td>4763327</td>\n",
              "      <td>Luxurious, best location, spa inc'l</td>\n",
              "      <td>24576978</td>\n",
              "      <td>xyz</td>\n",
              "      <td>Brooklyn</td>\n",
              "      <td>Greenpoint</td>\n",
              "      <td>40.72035</td>\n",
              "      <td>-73.95355</td>\n",
              "      <td>Entire home/apt</td>\n",
              "      <td>195</td>\n",
              "      <td>1</td>\n",
              "      <td>1</td>\n",
              "      <td>2015-10-20</td>\n",
              "      <td>0.02</td>\n",
              "      <td>1</td>\n",
              "      <td>0</td>\n",
              "    </tr>\n",
              "    <tr>\n",
              "      <th>8163</th>\n",
              "      <td>6292866</td>\n",
              "      <td>Modern Quiet Gem Near All</td>\n",
              "      <td>32722063</td>\n",
              "      <td>xyz</td>\n",
              "      <td>Brooklyn</td>\n",
              "      <td>East Flatbush</td>\n",
              "      <td>40.65263</td>\n",
              "      <td>-73.93215</td>\n",
              "      <td>Entire home/apt</td>\n",
              "      <td>85</td>\n",
              "      <td>2</td>\n",
              "      <td>182</td>\n",
              "      <td>2019-06-19</td>\n",
              "      <td>3.59</td>\n",
              "      <td>2</td>\n",
              "      <td>318</td>\n",
              "    </tr>\n",
              "    <tr>\n",
              "      <th>8257</th>\n",
              "      <td>6360224</td>\n",
              "      <td>Sunny, Private room in Bushwick</td>\n",
              "      <td>33134899</td>\n",
              "      <td>xyz</td>\n",
              "      <td>Brooklyn</td>\n",
              "      <td>Bushwick</td>\n",
              "      <td>40.70146</td>\n",
              "      <td>-73.92792</td>\n",
              "      <td>Private room</td>\n",
              "      <td>37</td>\n",
              "      <td>1</td>\n",
              "      <td>1</td>\n",
              "      <td>2015-07-01</td>\n",
              "      <td>0.02</td>\n",
              "      <td>1</td>\n",
              "      <td>0</td>\n",
              "    </tr>\n",
              "    <tr>\n",
              "      <th>8852</th>\n",
              "      <td>6786181</td>\n",
              "      <td>R&amp;S Modern Spacious Hideaway</td>\n",
              "      <td>32722063</td>\n",
              "      <td>xyz</td>\n",
              "      <td>Brooklyn</td>\n",
              "      <td>East Flatbush</td>\n",
              "      <td>40.64345</td>\n",
              "      <td>-73.93643</td>\n",
              "      <td>Entire home/apt</td>\n",
              "      <td>100</td>\n",
              "      <td>2</td>\n",
              "      <td>157</td>\n",
              "      <td>2019-06-19</td>\n",
              "      <td>3.18</td>\n",
              "      <td>2</td>\n",
              "      <td>342</td>\n",
              "    </tr>\n",
              "    <tr>\n",
              "      <th>9817</th>\n",
              "      <td>7556587</td>\n",
              "      <td>Sunny Room in Harlem</td>\n",
              "      <td>39608626</td>\n",
              "      <td>xyz</td>\n",
              "      <td>Manhattan</td>\n",
              "      <td>Harlem</td>\n",
              "      <td>40.82929</td>\n",
              "      <td>-73.94182</td>\n",
              "      <td>Private room</td>\n",
              "      <td>28</td>\n",
              "      <td>1</td>\n",
              "      <td>1</td>\n",
              "      <td>2015-08-01</td>\n",
              "      <td>0.02</td>\n",
              "      <td>1</td>\n",
              "      <td>0</td>\n",
              "    </tr>\n",
              "    <tr>\n",
              "      <th>14040</th>\n",
              "      <td>10709846</td>\n",
              "      <td>Sunny, spacious room in Greenpoint</td>\n",
              "      <td>7822683</td>\n",
              "      <td>xyz</td>\n",
              "      <td>Brooklyn</td>\n",
              "      <td>Greenpoint</td>\n",
              "      <td>40.73539</td>\n",
              "      <td>-73.95838</td>\n",
              "      <td>Private room</td>\n",
              "      <td>55</td>\n",
              "      <td>10</td>\n",
              "      <td>2</td>\n",
              "      <td>2016-11-05</td>\n",
              "      <td>0.05</td>\n",
              "      <td>1</td>\n",
              "      <td>0</td>\n",
              "    </tr>\n",
              "    <tr>\n",
              "      <th>14631</th>\n",
              "      <td>11553543</td>\n",
              "      <td>Cozy Room Astoria</td>\n",
              "      <td>26138712</td>\n",
              "      <td>xyz</td>\n",
              "      <td>Queens</td>\n",
              "      <td>Ditmars Steinway</td>\n",
              "      <td>40.77587</td>\n",
              "      <td>-73.91775</td>\n",
              "      <td>Private room</td>\n",
              "      <td>45</td>\n",
              "      <td>1</td>\n",
              "      <td>5</td>\n",
              "      <td>2017-01-01</td>\n",
              "      <td>0.13</td>\n",
              "      <td>1</td>\n",
              "      <td>0</td>\n",
              "    </tr>\n",
              "    <tr>\n",
              "      <th>15174</th>\n",
              "      <td>12113879</td>\n",
              "      <td>Sunny, Large West Village 1 BR Near Everything</td>\n",
              "      <td>5300585</td>\n",
              "      <td>xyz</td>\n",
              "      <td>Manhattan</td>\n",
              "      <td>Chelsea</td>\n",
              "      <td>40.73949</td>\n",
              "      <td>-73.99801</td>\n",
              "      <td>Entire home/apt</td>\n",
              "      <td>220</td>\n",
              "      <td>4</td>\n",
              "      <td>81</td>\n",
              "      <td>2019-07-02</td>\n",
              "      <td>2.11</td>\n",
              "      <td>1</td>\n",
              "      <td>217</td>\n",
              "    </tr>\n",
              "    <tr>\n",
              "      <th>19565</th>\n",
              "      <td>15648096</td>\n",
              "      <td>Spacious 2 bedroom close to Manhattan</td>\n",
              "      <td>100971588</td>\n",
              "      <td>xyz</td>\n",
              "      <td>Bronx</td>\n",
              "      <td>Highbridge</td>\n",
              "      <td>40.83844</td>\n",
              "      <td>-73.92489</td>\n",
              "      <td>Entire home/apt</td>\n",
              "      <td>75</td>\n",
              "      <td>4</td>\n",
              "      <td>37</td>\n",
              "      <td>2019-07-07</td>\n",
              "      <td>1.21</td>\n",
              "      <td>1</td>\n",
              "      <td>26</td>\n",
              "    </tr>\n",
              "    <tr>\n",
              "      <th>27962</th>\n",
              "      <td>21867710</td>\n",
              "      <td>Amazing room in the centre on Manhatten! Welcome!</td>\n",
              "      <td>159156636</td>\n",
              "      <td>xyz</td>\n",
              "      <td>Manhattan</td>\n",
              "      <td>Hell's Kitchen</td>\n",
              "      <td>40.75668</td>\n",
              "      <td>-73.99097</td>\n",
              "      <td>Private room</td>\n",
              "      <td>120</td>\n",
              "      <td>1</td>\n",
              "      <td>89</td>\n",
              "      <td>2019-01-01</td>\n",
              "      <td>5.16</td>\n",
              "      <td>3</td>\n",
              "      <td>0</td>\n",
              "    </tr>\n",
              "    <tr>\n",
              "      <th>28042</th>\n",
              "      <td>21901156</td>\n",
              "      <td>Best Deal! Lovely place in Manhattan! Time Squ...</td>\n",
              "      <td>159156636</td>\n",
              "      <td>xyz</td>\n",
              "      <td>Manhattan</td>\n",
              "      <td>Hell's Kitchen</td>\n",
              "      <td>40.75656</td>\n",
              "      <td>-73.99063</td>\n",
              "      <td>Private room</td>\n",
              "      <td>120</td>\n",
              "      <td>1</td>\n",
              "      <td>109</td>\n",
              "      <td>2019-01-01</td>\n",
              "      <td>5.97</td>\n",
              "      <td>3</td>\n",
              "      <td>0</td>\n",
              "    </tr>\n",
              "    <tr>\n",
              "      <th>28274</th>\n",
              "      <td>21990808</td>\n",
              "      <td>***SLEEPING IN THE GOLDEN PLACE***</td>\n",
              "      <td>159156636</td>\n",
              "      <td>xyz</td>\n",
              "      <td>Manhattan</td>\n",
              "      <td>Hell's Kitchen</td>\n",
              "      <td>40.75835</td>\n",
              "      <td>-73.99065</td>\n",
              "      <td>Private room</td>\n",
              "      <td>120</td>\n",
              "      <td>1</td>\n",
              "      <td>88</td>\n",
              "      <td>2018-12-14</td>\n",
              "      <td>4.93</td>\n",
              "      <td>3</td>\n",
              "      <td>0</td>\n",
              "    </tr>\n",
              "    <tr>\n",
              "      <th>30570</th>\n",
              "      <td>23660605</td>\n",
              "      <td>Private Bedroom w/ Balcony view of Central Park</td>\n",
              "      <td>177146433</td>\n",
              "      <td>xyz</td>\n",
              "      <td>Manhattan</td>\n",
              "      <td>East Harlem</td>\n",
              "      <td>40.79766</td>\n",
              "      <td>-73.94824</td>\n",
              "      <td>Private room</td>\n",
              "      <td>139</td>\n",
              "      <td>1</td>\n",
              "      <td>6</td>\n",
              "      <td>2018-08-12</td>\n",
              "      <td>0.46</td>\n",
              "      <td>1</td>\n",
              "      <td>0</td>\n",
              "    </tr>\n",
              "  </tbody>\n",
              "</table>\n",
              "</div>\n",
              "      <button class=\"colab-df-convert\" onclick=\"convertToInteractive('df-086fa8a2-7551-473f-b704-a7c43ea855b4')\"\n",
              "              title=\"Convert this dataframe to an interactive table.\"\n",
              "              style=\"display:none;\">\n",
              "        \n",
              "  <svg xmlns=\"http://www.w3.org/2000/svg\" height=\"24px\"viewBox=\"0 0 24 24\"\n",
              "       width=\"24px\">\n",
              "    <path d=\"M0 0h24v24H0V0z\" fill=\"none\"/>\n",
              "    <path d=\"M18.56 5.44l.94 2.06.94-2.06 2.06-.94-2.06-.94-.94-2.06-.94 2.06-2.06.94zm-11 1L8.5 8.5l.94-2.06 2.06-.94-2.06-.94L8.5 2.5l-.94 2.06-2.06.94zm10 10l.94 2.06.94-2.06 2.06-.94-2.06-.94-.94-2.06-.94 2.06-2.06.94z\"/><path d=\"M17.41 7.96l-1.37-1.37c-.4-.4-.92-.59-1.43-.59-.52 0-1.04.2-1.43.59L10.3 9.45l-7.72 7.72c-.78.78-.78 2.05 0 2.83L4 21.41c.39.39.9.59 1.41.59.51 0 1.02-.2 1.41-.59l7.78-7.78 2.81-2.81c.8-.78.8-2.07 0-2.86zM5.41 20L4 18.59l7.72-7.72 1.47 1.35L5.41 20z\"/>\n",
              "  </svg>\n",
              "      </button>\n",
              "      \n",
              "  <style>\n",
              "    .colab-df-container {\n",
              "      display:flex;\n",
              "      flex-wrap:wrap;\n",
              "      gap: 12px;\n",
              "    }\n",
              "\n",
              "    .colab-df-convert {\n",
              "      background-color: #E8F0FE;\n",
              "      border: none;\n",
              "      border-radius: 50%;\n",
              "      cursor: pointer;\n",
              "      display: none;\n",
              "      fill: #1967D2;\n",
              "      height: 32px;\n",
              "      padding: 0 0 0 0;\n",
              "      width: 32px;\n",
              "    }\n",
              "\n",
              "    .colab-df-convert:hover {\n",
              "      background-color: #E2EBFA;\n",
              "      box-shadow: 0px 1px 2px rgba(60, 64, 67, 0.3), 0px 1px 3px 1px rgba(60, 64, 67, 0.15);\n",
              "      fill: #174EA6;\n",
              "    }\n",
              "\n",
              "    [theme=dark] .colab-df-convert {\n",
              "      background-color: #3B4455;\n",
              "      fill: #D2E3FC;\n",
              "    }\n",
              "\n",
              "    [theme=dark] .colab-df-convert:hover {\n",
              "      background-color: #434B5C;\n",
              "      box-shadow: 0px 1px 3px 1px rgba(0, 0, 0, 0.15);\n",
              "      filter: drop-shadow(0px 1px 2px rgba(0, 0, 0, 0.3));\n",
              "      fill: #FFFFFF;\n",
              "    }\n",
              "  </style>\n",
              "\n",
              "      <script>\n",
              "        const buttonEl =\n",
              "          document.querySelector('#df-086fa8a2-7551-473f-b704-a7c43ea855b4 button.colab-df-convert');\n",
              "        buttonEl.style.display =\n",
              "          google.colab.kernel.accessAllowed ? 'block' : 'none';\n",
              "\n",
              "        async function convertToInteractive(key) {\n",
              "          const element = document.querySelector('#df-086fa8a2-7551-473f-b704-a7c43ea855b4');\n",
              "          const dataTable =\n",
              "            await google.colab.kernel.invokeFunction('convertToInteractive',\n",
              "                                                     [key], {});\n",
              "          if (!dataTable) return;\n",
              "\n",
              "          const docLinkHtml = 'Like what you see? Visit the ' +\n",
              "            '<a target=\"_blank\" href=https://colab.research.google.com/notebooks/data_table.ipynb>data table notebook</a>'\n",
              "            + ' to learn more about interactive tables.';\n",
              "          element.innerHTML = '';\n",
              "          dataTable['output_type'] = 'display_data';\n",
              "          await google.colab.output.renderOutput(dataTable, element);\n",
              "          const docLink = document.createElement('div');\n",
              "          docLink.innerHTML = docLinkHtml;\n",
              "          element.appendChild(docLink);\n",
              "        }\n",
              "      </script>\n",
              "    </div>\n",
              "  </div>\n",
              "  "
            ]
          },
          "metadata": {},
          "execution_count": 26
        }
      ]
    },
    {
      "cell_type": "markdown",
      "source": [
        "Checking the number of null values."
      ],
      "metadata": {
        "id": "OTUHq8C5gbam"
      }
    },
    {
      "cell_type": "code",
      "source": [
        "bnb_df[bnb_df['host_name']==pd.NA]['host_name'].count()"
      ],
      "metadata": {
        "colab": {
          "base_uri": "https://localhost:8080/"
        },
        "id": "kVbXXHdyfea_",
        "outputId": "bdaa50c8-9c7e-4286-b165-d6cd23996b37"
      },
      "execution_count": 27,
      "outputs": [
        {
          "output_type": "execute_result",
          "data": {
            "text/plain": [
              "0"
            ]
          },
          "metadata": {},
          "execution_count": 27
        }
      ]
    },
    {
      "cell_type": "code",
      "source": [
        "bnb_df['host_name']"
      ],
      "metadata": {
        "colab": {
          "base_uri": "https://localhost:8080/"
        },
        "id": "I71-r5SBfm4a",
        "outputId": "a3b41049-4642-4da9-854a-3aa2b1863966"
      },
      "execution_count": 28,
      "outputs": [
        {
          "output_type": "execute_result",
          "data": {
            "text/plain": [
              "0               John\n",
              "1           Jennifer\n",
              "3        LisaRoxanne\n",
              "4              Laura\n",
              "5              Chris\n",
              "            ...     \n",
              "48782          Rusaa\n",
              "48790           H Ai\n",
              "48799            Ben\n",
              "48805         Blaine\n",
              "48852      Christine\n",
              "Name: host_name, Length: 38843, dtype: object"
            ]
          },
          "metadata": {},
          "execution_count": 28
        }
      ]
    },
    {
      "cell_type": "markdown",
      "source": [
        "## Name"
      ],
      "metadata": {
        "id": "jvKyu6D6dO16"
      }
    },
    {
      "cell_type": "code",
      "source": [
        "type(bnb_df['name'][0])"
      ],
      "metadata": {
        "colab": {
          "base_uri": "https://localhost:8080/"
        },
        "id": "i4frsZyMbT91",
        "outputId": "0c76fe40-c527-4984-ca70-6a7bb046e607"
      },
      "execution_count": 29,
      "outputs": [
        {
          "output_type": "execute_result",
          "data": {
            "text/plain": [
              "str"
            ]
          },
          "metadata": {},
          "execution_count": 29
        }
      ]
    },
    {
      "cell_type": "code",
      "source": [
        "bnb_df['name']=bnb_df['name'].fillna('abc')"
      ],
      "metadata": {
        "id": "1UIkQRuAdKmo"
      },
      "execution_count": 30,
      "outputs": []
    },
    {
      "cell_type": "code",
      "source": [
        "bnb_df[bnb_df['name']=='abc']"
      ],
      "metadata": {
        "colab": {
          "base_uri": "https://localhost:8080/",
          "height": 406
        },
        "id": "gOQ7ULBzdwo0",
        "outputId": "59183a44-ec26-468c-83a1-bc1e36c2fbf3"
      },
      "execution_count": 31,
      "outputs": [
        {
          "output_type": "execute_result",
          "data": {
            "text/plain": [
              "             id name   host_id host_name neighbourhood_group  \\\n",
              "3703    2232600  abc  11395220      Anna           Manhattan   \n",
              "5775    4209595  abc  20700823     Jesse           Manhattan   \n",
              "5975    4370230  abc  22686810   Michaël           Manhattan   \n",
              "11963   9325951  abc  33377685  Jonathan           Manhattan   \n",
              "13401  10052289  abc  49522403   Vanessa            Brooklyn   \n",
              "28889  22275821  abc  49662398  Kathleen            Brooklyn   \n",
              "\n",
              "           neighbourhood  latitude  longitude        room_type  price  \\\n",
              "3703        East Village  40.73215  -73.98821  Entire home/apt    200   \n",
              "5775   Greenwich Village  40.73473  -73.99244  Entire home/apt    225   \n",
              "5975              Nolita  40.72046  -73.99550  Entire home/apt    215   \n",
              "11963     Hell's Kitchen  40.76436  -73.98573  Entire home/apt    190   \n",
              "13401        Brownsville  40.66409  -73.92314     Private room     50   \n",
              "28889           Bushwick  40.69546  -73.92741  Entire home/apt    110   \n",
              "\n",
              "       minimum_nights  number_of_reviews last_review  reviews_per_month  \\\n",
              "3703                1                 28  2015-06-08               0.45   \n",
              "5775                1                  1  2015-01-01               0.02   \n",
              "5975                7                  5  2016-01-02               0.09   \n",
              "11963               4                  1  2016-01-05               0.02   \n",
              "13401               3                  3  2016-08-18               0.07   \n",
              "28889               4                  5  2018-08-13               0.27   \n",
              "\n",
              "       calculated_host_listings_count  availability_365  \n",
              "3703                                1               341  \n",
              "5775                                1                 0  \n",
              "5975                                1                 0  \n",
              "11963                               1                 0  \n",
              "13401                               1               362  \n",
              "28889                               1                 0  "
            ],
            "text/html": [
              "\n",
              "  <div id=\"df-443d16c1-cd5e-48d7-ae4c-f6f815ed2aa7\">\n",
              "    <div class=\"colab-df-container\">\n",
              "      <div>\n",
              "<style scoped>\n",
              "    .dataframe tbody tr th:only-of-type {\n",
              "        vertical-align: middle;\n",
              "    }\n",
              "\n",
              "    .dataframe tbody tr th {\n",
              "        vertical-align: top;\n",
              "    }\n",
              "\n",
              "    .dataframe thead th {\n",
              "        text-align: right;\n",
              "    }\n",
              "</style>\n",
              "<table border=\"1\" class=\"dataframe\">\n",
              "  <thead>\n",
              "    <tr style=\"text-align: right;\">\n",
              "      <th></th>\n",
              "      <th>id</th>\n",
              "      <th>name</th>\n",
              "      <th>host_id</th>\n",
              "      <th>host_name</th>\n",
              "      <th>neighbourhood_group</th>\n",
              "      <th>neighbourhood</th>\n",
              "      <th>latitude</th>\n",
              "      <th>longitude</th>\n",
              "      <th>room_type</th>\n",
              "      <th>price</th>\n",
              "      <th>minimum_nights</th>\n",
              "      <th>number_of_reviews</th>\n",
              "      <th>last_review</th>\n",
              "      <th>reviews_per_month</th>\n",
              "      <th>calculated_host_listings_count</th>\n",
              "      <th>availability_365</th>\n",
              "    </tr>\n",
              "  </thead>\n",
              "  <tbody>\n",
              "    <tr>\n",
              "      <th>3703</th>\n",
              "      <td>2232600</td>\n",
              "      <td>abc</td>\n",
              "      <td>11395220</td>\n",
              "      <td>Anna</td>\n",
              "      <td>Manhattan</td>\n",
              "      <td>East Village</td>\n",
              "      <td>40.73215</td>\n",
              "      <td>-73.98821</td>\n",
              "      <td>Entire home/apt</td>\n",
              "      <td>200</td>\n",
              "      <td>1</td>\n",
              "      <td>28</td>\n",
              "      <td>2015-06-08</td>\n",
              "      <td>0.45</td>\n",
              "      <td>1</td>\n",
              "      <td>341</td>\n",
              "    </tr>\n",
              "    <tr>\n",
              "      <th>5775</th>\n",
              "      <td>4209595</td>\n",
              "      <td>abc</td>\n",
              "      <td>20700823</td>\n",
              "      <td>Jesse</td>\n",
              "      <td>Manhattan</td>\n",
              "      <td>Greenwich Village</td>\n",
              "      <td>40.73473</td>\n",
              "      <td>-73.99244</td>\n",
              "      <td>Entire home/apt</td>\n",
              "      <td>225</td>\n",
              "      <td>1</td>\n",
              "      <td>1</td>\n",
              "      <td>2015-01-01</td>\n",
              "      <td>0.02</td>\n",
              "      <td>1</td>\n",
              "      <td>0</td>\n",
              "    </tr>\n",
              "    <tr>\n",
              "      <th>5975</th>\n",
              "      <td>4370230</td>\n",
              "      <td>abc</td>\n",
              "      <td>22686810</td>\n",
              "      <td>Michaël</td>\n",
              "      <td>Manhattan</td>\n",
              "      <td>Nolita</td>\n",
              "      <td>40.72046</td>\n",
              "      <td>-73.99550</td>\n",
              "      <td>Entire home/apt</td>\n",
              "      <td>215</td>\n",
              "      <td>7</td>\n",
              "      <td>5</td>\n",
              "      <td>2016-01-02</td>\n",
              "      <td>0.09</td>\n",
              "      <td>1</td>\n",
              "      <td>0</td>\n",
              "    </tr>\n",
              "    <tr>\n",
              "      <th>11963</th>\n",
              "      <td>9325951</td>\n",
              "      <td>abc</td>\n",
              "      <td>33377685</td>\n",
              "      <td>Jonathan</td>\n",
              "      <td>Manhattan</td>\n",
              "      <td>Hell's Kitchen</td>\n",
              "      <td>40.76436</td>\n",
              "      <td>-73.98573</td>\n",
              "      <td>Entire home/apt</td>\n",
              "      <td>190</td>\n",
              "      <td>4</td>\n",
              "      <td>1</td>\n",
              "      <td>2016-01-05</td>\n",
              "      <td>0.02</td>\n",
              "      <td>1</td>\n",
              "      <td>0</td>\n",
              "    </tr>\n",
              "    <tr>\n",
              "      <th>13401</th>\n",
              "      <td>10052289</td>\n",
              "      <td>abc</td>\n",
              "      <td>49522403</td>\n",
              "      <td>Vanessa</td>\n",
              "      <td>Brooklyn</td>\n",
              "      <td>Brownsville</td>\n",
              "      <td>40.66409</td>\n",
              "      <td>-73.92314</td>\n",
              "      <td>Private room</td>\n",
              "      <td>50</td>\n",
              "      <td>3</td>\n",
              "      <td>3</td>\n",
              "      <td>2016-08-18</td>\n",
              "      <td>0.07</td>\n",
              "      <td>1</td>\n",
              "      <td>362</td>\n",
              "    </tr>\n",
              "    <tr>\n",
              "      <th>28889</th>\n",
              "      <td>22275821</td>\n",
              "      <td>abc</td>\n",
              "      <td>49662398</td>\n",
              "      <td>Kathleen</td>\n",
              "      <td>Brooklyn</td>\n",
              "      <td>Bushwick</td>\n",
              "      <td>40.69546</td>\n",
              "      <td>-73.92741</td>\n",
              "      <td>Entire home/apt</td>\n",
              "      <td>110</td>\n",
              "      <td>4</td>\n",
              "      <td>5</td>\n",
              "      <td>2018-08-13</td>\n",
              "      <td>0.27</td>\n",
              "      <td>1</td>\n",
              "      <td>0</td>\n",
              "    </tr>\n",
              "  </tbody>\n",
              "</table>\n",
              "</div>\n",
              "      <button class=\"colab-df-convert\" onclick=\"convertToInteractive('df-443d16c1-cd5e-48d7-ae4c-f6f815ed2aa7')\"\n",
              "              title=\"Convert this dataframe to an interactive table.\"\n",
              "              style=\"display:none;\">\n",
              "        \n",
              "  <svg xmlns=\"http://www.w3.org/2000/svg\" height=\"24px\"viewBox=\"0 0 24 24\"\n",
              "       width=\"24px\">\n",
              "    <path d=\"M0 0h24v24H0V0z\" fill=\"none\"/>\n",
              "    <path d=\"M18.56 5.44l.94 2.06.94-2.06 2.06-.94-2.06-.94-.94-2.06-.94 2.06-2.06.94zm-11 1L8.5 8.5l.94-2.06 2.06-.94-2.06-.94L8.5 2.5l-.94 2.06-2.06.94zm10 10l.94 2.06.94-2.06 2.06-.94-2.06-.94-.94-2.06-.94 2.06-2.06.94z\"/><path d=\"M17.41 7.96l-1.37-1.37c-.4-.4-.92-.59-1.43-.59-.52 0-1.04.2-1.43.59L10.3 9.45l-7.72 7.72c-.78.78-.78 2.05 0 2.83L4 21.41c.39.39.9.59 1.41.59.51 0 1.02-.2 1.41-.59l7.78-7.78 2.81-2.81c.8-.78.8-2.07 0-2.86zM5.41 20L4 18.59l7.72-7.72 1.47 1.35L5.41 20z\"/>\n",
              "  </svg>\n",
              "      </button>\n",
              "      \n",
              "  <style>\n",
              "    .colab-df-container {\n",
              "      display:flex;\n",
              "      flex-wrap:wrap;\n",
              "      gap: 12px;\n",
              "    }\n",
              "\n",
              "    .colab-df-convert {\n",
              "      background-color: #E8F0FE;\n",
              "      border: none;\n",
              "      border-radius: 50%;\n",
              "      cursor: pointer;\n",
              "      display: none;\n",
              "      fill: #1967D2;\n",
              "      height: 32px;\n",
              "      padding: 0 0 0 0;\n",
              "      width: 32px;\n",
              "    }\n",
              "\n",
              "    .colab-df-convert:hover {\n",
              "      background-color: #E2EBFA;\n",
              "      box-shadow: 0px 1px 2px rgba(60, 64, 67, 0.3), 0px 1px 3px 1px rgba(60, 64, 67, 0.15);\n",
              "      fill: #174EA6;\n",
              "    }\n",
              "\n",
              "    [theme=dark] .colab-df-convert {\n",
              "      background-color: #3B4455;\n",
              "      fill: #D2E3FC;\n",
              "    }\n",
              "\n",
              "    [theme=dark] .colab-df-convert:hover {\n",
              "      background-color: #434B5C;\n",
              "      box-shadow: 0px 1px 3px 1px rgba(0, 0, 0, 0.15);\n",
              "      filter: drop-shadow(0px 1px 2px rgba(0, 0, 0, 0.3));\n",
              "      fill: #FFFFFF;\n",
              "    }\n",
              "  </style>\n",
              "\n",
              "      <script>\n",
              "        const buttonEl =\n",
              "          document.querySelector('#df-443d16c1-cd5e-48d7-ae4c-f6f815ed2aa7 button.colab-df-convert');\n",
              "        buttonEl.style.display =\n",
              "          google.colab.kernel.accessAllowed ? 'block' : 'none';\n",
              "\n",
              "        async function convertToInteractive(key) {\n",
              "          const element = document.querySelector('#df-443d16c1-cd5e-48d7-ae4c-f6f815ed2aa7');\n",
              "          const dataTable =\n",
              "            await google.colab.kernel.invokeFunction('convertToInteractive',\n",
              "                                                     [key], {});\n",
              "          if (!dataTable) return;\n",
              "\n",
              "          const docLinkHtml = 'Like what you see? Visit the ' +\n",
              "            '<a target=\"_blank\" href=https://colab.research.google.com/notebooks/data_table.ipynb>data table notebook</a>'\n",
              "            + ' to learn more about interactive tables.';\n",
              "          element.innerHTML = '';\n",
              "          dataTable['output_type'] = 'display_data';\n",
              "          await google.colab.output.renderOutput(dataTable, element);\n",
              "          const docLink = document.createElement('div');\n",
              "          docLink.innerHTML = docLinkHtml;\n",
              "          element.appendChild(docLink);\n",
              "        }\n",
              "      </script>\n",
              "    </div>\n",
              "  </div>\n",
              "  "
            ]
          },
          "metadata": {},
          "execution_count": 31
        }
      ]
    },
    {
      "cell_type": "markdown",
      "source": [
        "Checking the number of null values"
      ],
      "metadata": {
        "id": "XJBSugmUgga0"
      }
    },
    {
      "cell_type": "code",
      "source": [
        "bnb_df[bnb_df['name']==pd.NA]['name'].count()"
      ],
      "metadata": {
        "colab": {
          "base_uri": "https://localhost:8080/"
        },
        "id": "mhgG1F7HdyRE",
        "outputId": "d12c1126-a19c-4bbd-9d04-e012a6cb05a2"
      },
      "execution_count": 32,
      "outputs": [
        {
          "output_type": "execute_result",
          "data": {
            "text/plain": [
              "0"
            ]
          },
          "metadata": {},
          "execution_count": 32
        }
      ]
    },
    {
      "cell_type": "code",
      "source": [
        "bnb_df.info()"
      ],
      "metadata": {
        "colab": {
          "base_uri": "https://localhost:8080/"
        },
        "id": "mxvRmhZQgZSC",
        "outputId": "ce13f1c9-4f31-4c8a-ac80-a43098a717d1"
      },
      "execution_count": 33,
      "outputs": [
        {
          "output_type": "stream",
          "name": "stdout",
          "text": [
            "<class 'pandas.core.frame.DataFrame'>\n",
            "Int64Index: 38843 entries, 0 to 48852\n",
            "Data columns (total 16 columns):\n",
            " #   Column                          Non-Null Count  Dtype  \n",
            "---  ------                          --------------  -----  \n",
            " 0   id                              38843 non-null  int64  \n",
            " 1   name                            38843 non-null  object \n",
            " 2   host_id                         38843 non-null  int64  \n",
            " 3   host_name                       38843 non-null  object \n",
            " 4   neighbourhood_group             38843 non-null  object \n",
            " 5   neighbourhood                   38843 non-null  object \n",
            " 6   latitude                        38843 non-null  float64\n",
            " 7   longitude                       38843 non-null  float64\n",
            " 8   room_type                       38843 non-null  object \n",
            " 9   price                           38843 non-null  int64  \n",
            " 10  minimum_nights                  38843 non-null  int64  \n",
            " 11  number_of_reviews               38843 non-null  int64  \n",
            " 12  last_review                     38843 non-null  object \n",
            " 13  reviews_per_month               38843 non-null  float64\n",
            " 14  calculated_host_listings_count  38843 non-null  int64  \n",
            " 15  availability_365                38843 non-null  int64  \n",
            "dtypes: float64(3), int64(7), object(6)\n",
            "memory usage: 6.0+ MB\n"
          ]
        }
      ]
    },
    {
      "cell_type": "markdown",
      "source": [
        "## **What can we learn about different hosts and areas?**"
      ],
      "metadata": {
        "id": "1ZmRABuAjQYi"
      }
    },
    {
      "cell_type": "code",
      "source": [
        "bnb_df.corr()"
      ],
      "metadata": {
        "colab": {
          "base_uri": "https://localhost:8080/",
          "height": 427
        },
        "id": "nMRGbAfqglzS",
        "outputId": "44140e9a-846f-4172-ac97-90b09130fb89"
      },
      "execution_count": 34,
      "outputs": [
        {
          "output_type": "execute_result",
          "data": {
            "text/plain": [
              "                                      id   host_id  latitude  longitude  \\\n",
              "id                              1.000000  0.591529 -0.010013   0.103150   \n",
              "host_id                         0.591529  1.000000  0.012946   0.141095   \n",
              "latitude                       -0.010013  0.012946  1.000000   0.088152   \n",
              "longitude                       0.103150  0.141095  0.088152   1.000000   \n",
              "price                          -0.006647  0.006269  0.031318  -0.155361   \n",
              "minimum_nights                 -0.073902 -0.051693  0.024808  -0.055418   \n",
              "number_of_reviews              -0.329865 -0.141819 -0.008746   0.054681   \n",
              "reviews_per_month               0.291828  0.296417 -0.010142   0.145948   \n",
              "calculated_host_listings_count  0.098482  0.149412  0.004326  -0.093325   \n",
              "availability_365                0.006430  0.155082 -0.022228   0.102540   \n",
              "\n",
              "                                   price  minimum_nights  number_of_reviews  \\\n",
              "id                             -0.006647       -0.073902          -0.329865   \n",
              "host_id                         0.006269       -0.051693          -0.141819   \n",
              "latitude                        0.031318        0.024808          -0.008746   \n",
              "longitude                      -0.155361       -0.055418           0.054681   \n",
              "price                           1.000000        0.025506          -0.035938   \n",
              "minimum_nights                  0.025506        1.000000          -0.069368   \n",
              "number_of_reviews              -0.035938       -0.069368           1.000000   \n",
              "reviews_per_month              -0.030608       -0.121702           0.549868   \n",
              "calculated_host_listings_count  0.052903        0.073479          -0.059784   \n",
              "availability_365                0.078234        0.101686           0.193557   \n",
              "\n",
              "                                reviews_per_month  \\\n",
              "id                                       0.291828   \n",
              "host_id                                  0.296417   \n",
              "latitude                                -0.010142   \n",
              "longitude                                0.145948   \n",
              "price                                   -0.030608   \n",
              "minimum_nights                          -0.121702   \n",
              "number_of_reviews                        0.549868   \n",
              "reviews_per_month                        1.000000   \n",
              "calculated_host_listings_count          -0.009421   \n",
              "availability_365                         0.185791   \n",
              "\n",
              "                                calculated_host_listings_count  \\\n",
              "id                                                    0.098482   \n",
              "host_id                                               0.149412   \n",
              "latitude                                              0.004326   \n",
              "longitude                                            -0.093325   \n",
              "price                                                 0.052903   \n",
              "minimum_nights                                        0.073479   \n",
              "number_of_reviews                                    -0.059784   \n",
              "reviews_per_month                                    -0.009421   \n",
              "calculated_host_listings_count                        1.000000   \n",
              "availability_365                                      0.182911   \n",
              "\n",
              "                                availability_365  \n",
              "id                                      0.006430  \n",
              "host_id                                 0.155082  \n",
              "latitude                               -0.022228  \n",
              "longitude                               0.102540  \n",
              "price                                   0.078234  \n",
              "minimum_nights                          0.101686  \n",
              "number_of_reviews                       0.193557  \n",
              "reviews_per_month                       0.185791  \n",
              "calculated_host_listings_count          0.182911  \n",
              "availability_365                        1.000000  "
            ],
            "text/html": [
              "\n",
              "  <div id=\"df-936a8d4f-1c4c-49f9-8dd6-1c3f3503906a\">\n",
              "    <div class=\"colab-df-container\">\n",
              "      <div>\n",
              "<style scoped>\n",
              "    .dataframe tbody tr th:only-of-type {\n",
              "        vertical-align: middle;\n",
              "    }\n",
              "\n",
              "    .dataframe tbody tr th {\n",
              "        vertical-align: top;\n",
              "    }\n",
              "\n",
              "    .dataframe thead th {\n",
              "        text-align: right;\n",
              "    }\n",
              "</style>\n",
              "<table border=\"1\" class=\"dataframe\">\n",
              "  <thead>\n",
              "    <tr style=\"text-align: right;\">\n",
              "      <th></th>\n",
              "      <th>id</th>\n",
              "      <th>host_id</th>\n",
              "      <th>latitude</th>\n",
              "      <th>longitude</th>\n",
              "      <th>price</th>\n",
              "      <th>minimum_nights</th>\n",
              "      <th>number_of_reviews</th>\n",
              "      <th>reviews_per_month</th>\n",
              "      <th>calculated_host_listings_count</th>\n",
              "      <th>availability_365</th>\n",
              "    </tr>\n",
              "  </thead>\n",
              "  <tbody>\n",
              "    <tr>\n",
              "      <th>id</th>\n",
              "      <td>1.000000</td>\n",
              "      <td>0.591529</td>\n",
              "      <td>-0.010013</td>\n",
              "      <td>0.103150</td>\n",
              "      <td>-0.006647</td>\n",
              "      <td>-0.073902</td>\n",
              "      <td>-0.329865</td>\n",
              "      <td>0.291828</td>\n",
              "      <td>0.098482</td>\n",
              "      <td>0.006430</td>\n",
              "    </tr>\n",
              "    <tr>\n",
              "      <th>host_id</th>\n",
              "      <td>0.591529</td>\n",
              "      <td>1.000000</td>\n",
              "      <td>0.012946</td>\n",
              "      <td>0.141095</td>\n",
              "      <td>0.006269</td>\n",
              "      <td>-0.051693</td>\n",
              "      <td>-0.141819</td>\n",
              "      <td>0.296417</td>\n",
              "      <td>0.149412</td>\n",
              "      <td>0.155082</td>\n",
              "    </tr>\n",
              "    <tr>\n",
              "      <th>latitude</th>\n",
              "      <td>-0.010013</td>\n",
              "      <td>0.012946</td>\n",
              "      <td>1.000000</td>\n",
              "      <td>0.088152</td>\n",
              "      <td>0.031318</td>\n",
              "      <td>0.024808</td>\n",
              "      <td>-0.008746</td>\n",
              "      <td>-0.010142</td>\n",
              "      <td>0.004326</td>\n",
              "      <td>-0.022228</td>\n",
              "    </tr>\n",
              "    <tr>\n",
              "      <th>longitude</th>\n",
              "      <td>0.103150</td>\n",
              "      <td>0.141095</td>\n",
              "      <td>0.088152</td>\n",
              "      <td>1.000000</td>\n",
              "      <td>-0.155361</td>\n",
              "      <td>-0.055418</td>\n",
              "      <td>0.054681</td>\n",
              "      <td>0.145948</td>\n",
              "      <td>-0.093325</td>\n",
              "      <td>0.102540</td>\n",
              "    </tr>\n",
              "    <tr>\n",
              "      <th>price</th>\n",
              "      <td>-0.006647</td>\n",
              "      <td>0.006269</td>\n",
              "      <td>0.031318</td>\n",
              "      <td>-0.155361</td>\n",
              "      <td>1.000000</td>\n",
              "      <td>0.025506</td>\n",
              "      <td>-0.035938</td>\n",
              "      <td>-0.030608</td>\n",
              "      <td>0.052903</td>\n",
              "      <td>0.078234</td>\n",
              "    </tr>\n",
              "    <tr>\n",
              "      <th>minimum_nights</th>\n",
              "      <td>-0.073902</td>\n",
              "      <td>-0.051693</td>\n",
              "      <td>0.024808</td>\n",
              "      <td>-0.055418</td>\n",
              "      <td>0.025506</td>\n",
              "      <td>1.000000</td>\n",
              "      <td>-0.069368</td>\n",
              "      <td>-0.121702</td>\n",
              "      <td>0.073479</td>\n",
              "      <td>0.101686</td>\n",
              "    </tr>\n",
              "    <tr>\n",
              "      <th>number_of_reviews</th>\n",
              "      <td>-0.329865</td>\n",
              "      <td>-0.141819</td>\n",
              "      <td>-0.008746</td>\n",
              "      <td>0.054681</td>\n",
              "      <td>-0.035938</td>\n",
              "      <td>-0.069368</td>\n",
              "      <td>1.000000</td>\n",
              "      <td>0.549868</td>\n",
              "      <td>-0.059784</td>\n",
              "      <td>0.193557</td>\n",
              "    </tr>\n",
              "    <tr>\n",
              "      <th>reviews_per_month</th>\n",
              "      <td>0.291828</td>\n",
              "      <td>0.296417</td>\n",
              "      <td>-0.010142</td>\n",
              "      <td>0.145948</td>\n",
              "      <td>-0.030608</td>\n",
              "      <td>-0.121702</td>\n",
              "      <td>0.549868</td>\n",
              "      <td>1.000000</td>\n",
              "      <td>-0.009421</td>\n",
              "      <td>0.185791</td>\n",
              "    </tr>\n",
              "    <tr>\n",
              "      <th>calculated_host_listings_count</th>\n",
              "      <td>0.098482</td>\n",
              "      <td>0.149412</td>\n",
              "      <td>0.004326</td>\n",
              "      <td>-0.093325</td>\n",
              "      <td>0.052903</td>\n",
              "      <td>0.073479</td>\n",
              "      <td>-0.059784</td>\n",
              "      <td>-0.009421</td>\n",
              "      <td>1.000000</td>\n",
              "      <td>0.182911</td>\n",
              "    </tr>\n",
              "    <tr>\n",
              "      <th>availability_365</th>\n",
              "      <td>0.006430</td>\n",
              "      <td>0.155082</td>\n",
              "      <td>-0.022228</td>\n",
              "      <td>0.102540</td>\n",
              "      <td>0.078234</td>\n",
              "      <td>0.101686</td>\n",
              "      <td>0.193557</td>\n",
              "      <td>0.185791</td>\n",
              "      <td>0.182911</td>\n",
              "      <td>1.000000</td>\n",
              "    </tr>\n",
              "  </tbody>\n",
              "</table>\n",
              "</div>\n",
              "      <button class=\"colab-df-convert\" onclick=\"convertToInteractive('df-936a8d4f-1c4c-49f9-8dd6-1c3f3503906a')\"\n",
              "              title=\"Convert this dataframe to an interactive table.\"\n",
              "              style=\"display:none;\">\n",
              "        \n",
              "  <svg xmlns=\"http://www.w3.org/2000/svg\" height=\"24px\"viewBox=\"0 0 24 24\"\n",
              "       width=\"24px\">\n",
              "    <path d=\"M0 0h24v24H0V0z\" fill=\"none\"/>\n",
              "    <path d=\"M18.56 5.44l.94 2.06.94-2.06 2.06-.94-2.06-.94-.94-2.06-.94 2.06-2.06.94zm-11 1L8.5 8.5l.94-2.06 2.06-.94-2.06-.94L8.5 2.5l-.94 2.06-2.06.94zm10 10l.94 2.06.94-2.06 2.06-.94-2.06-.94-.94-2.06-.94 2.06-2.06.94z\"/><path d=\"M17.41 7.96l-1.37-1.37c-.4-.4-.92-.59-1.43-.59-.52 0-1.04.2-1.43.59L10.3 9.45l-7.72 7.72c-.78.78-.78 2.05 0 2.83L4 21.41c.39.39.9.59 1.41.59.51 0 1.02-.2 1.41-.59l7.78-7.78 2.81-2.81c.8-.78.8-2.07 0-2.86zM5.41 20L4 18.59l7.72-7.72 1.47 1.35L5.41 20z\"/>\n",
              "  </svg>\n",
              "      </button>\n",
              "      \n",
              "  <style>\n",
              "    .colab-df-container {\n",
              "      display:flex;\n",
              "      flex-wrap:wrap;\n",
              "      gap: 12px;\n",
              "    }\n",
              "\n",
              "    .colab-df-convert {\n",
              "      background-color: #E8F0FE;\n",
              "      border: none;\n",
              "      border-radius: 50%;\n",
              "      cursor: pointer;\n",
              "      display: none;\n",
              "      fill: #1967D2;\n",
              "      height: 32px;\n",
              "      padding: 0 0 0 0;\n",
              "      width: 32px;\n",
              "    }\n",
              "\n",
              "    .colab-df-convert:hover {\n",
              "      background-color: #E2EBFA;\n",
              "      box-shadow: 0px 1px 2px rgba(60, 64, 67, 0.3), 0px 1px 3px 1px rgba(60, 64, 67, 0.15);\n",
              "      fill: #174EA6;\n",
              "    }\n",
              "\n",
              "    [theme=dark] .colab-df-convert {\n",
              "      background-color: #3B4455;\n",
              "      fill: #D2E3FC;\n",
              "    }\n",
              "\n",
              "    [theme=dark] .colab-df-convert:hover {\n",
              "      background-color: #434B5C;\n",
              "      box-shadow: 0px 1px 3px 1px rgba(0, 0, 0, 0.15);\n",
              "      filter: drop-shadow(0px 1px 2px rgba(0, 0, 0, 0.3));\n",
              "      fill: #FFFFFF;\n",
              "    }\n",
              "  </style>\n",
              "\n",
              "      <script>\n",
              "        const buttonEl =\n",
              "          document.querySelector('#df-936a8d4f-1c4c-49f9-8dd6-1c3f3503906a button.colab-df-convert');\n",
              "        buttonEl.style.display =\n",
              "          google.colab.kernel.accessAllowed ? 'block' : 'none';\n",
              "\n",
              "        async function convertToInteractive(key) {\n",
              "          const element = document.querySelector('#df-936a8d4f-1c4c-49f9-8dd6-1c3f3503906a');\n",
              "          const dataTable =\n",
              "            await google.colab.kernel.invokeFunction('convertToInteractive',\n",
              "                                                     [key], {});\n",
              "          if (!dataTable) return;\n",
              "\n",
              "          const docLinkHtml = 'Like what you see? Visit the ' +\n",
              "            '<a target=\"_blank\" href=https://colab.research.google.com/notebooks/data_table.ipynb>data table notebook</a>'\n",
              "            + ' to learn more about interactive tables.';\n",
              "          element.innerHTML = '';\n",
              "          dataTable['output_type'] = 'display_data';\n",
              "          await google.colab.output.renderOutput(dataTable, element);\n",
              "          const docLink = document.createElement('div');\n",
              "          docLink.innerHTML = docLinkHtml;\n",
              "          element.appendChild(docLink);\n",
              "        }\n",
              "      </script>\n",
              "    </div>\n",
              "  </div>\n",
              "  "
            ]
          },
          "metadata": {},
          "execution_count": 34
        }
      ]
    },
    {
      "cell_type": "markdown",
      "source": [
        "Price Vs Minimum nights"
      ],
      "metadata": {
        "id": "Gun19QZ4lfUg"
      }
    },
    {
      "cell_type": "code",
      "source": [
        "var = 'price'\n",
        "data = pd.concat([bnb_df['minimum_nights'], bnb_df[var]], axis=1)\n",
        "data.plot.scatter(x=var, y='minimum_nights', ylim=(0,500));"
      ],
      "metadata": {
        "colab": {
          "base_uri": "https://localhost:8080/",
          "height": 283
        },
        "id": "mpfOfJgnj7XW",
        "outputId": "1301b6c5-935d-4df3-bedd-1c7db837edf1"
      },
      "execution_count": 35,
      "outputs": [
        {
          "output_type": "display_data",
          "data": {
            "text/plain": [
              "<Figure size 432x288 with 1 Axes>"
            ],
            "image/png": "[encoded data removed]"
          },
          "metadata": {
            "needs_background": "light"
          }
        }
      ]
    },
    {
      "cell_type": "code",
      "source": [
        "bnb_df[bnb_df['price']<=69]['price'].count()"
      ],
      "metadata": {
        "colab": {
          "base_uri": "https://localhost:8080/"
        },
        "id": "HuZBrs-MmJPG",
        "outputId": "594f057c-849d-4138-b196-251e71a7fa88"
      },
      "execution_count": 36,
      "outputs": [
        {
          "output_type": "execute_result",
          "data": {
            "text/plain": [
              "9990"
            ]
          },
          "metadata": {},
          "execution_count": 36
        }
      ]
    },
    {
      "cell_type": "code",
      "source": [
        "bnb_df['price'].plot(kind='box')"
      ],
      "metadata": {
        "colab": {
          "base_uri": "https://localhost:8080/",
          "height": 282
        },
        "id": "pQ2kd_IBoK77",
        "outputId": "31ae56db-52ea-43e6-82cb-042fb367de57"
      },
      "execution_count": 37,
      "outputs": [
        {
          "output_type": "execute_result",
          "data": {
            "text/plain": [
              "<matplotlib.axes._subplots.AxesSubplot at 0x7f9385112e50>"
            ]
          },
          "metadata": {},
          "execution_count": 37
        },
        {
          "output_type": "display_data",
          "data": {
            "text/plain": [
              "<Figure size 432x288 with 1 Axes>"
            ],
            "image/png": "[encoded data removed]"
          },
          "metadata": {
            "needs_background": "light"
          }
        }
      ]
    },
    {
      "cell_type": "code",
      "source": [
        "sns.lmplot(x='price',y='minimum_nights',data=bnb_df)"
      ],
      "metadata": {
        "colab": {
          "base_uri": "https://localhost:8080/",
          "height": 386
        },
        "id": "HLYRZDxBpdUe",
        "outputId": "05a9406d-3970-4479-ae5c-88da8446b1e7"
      },
      "execution_count": 38,
      "outputs": [
        {
          "output_type": "execute_result",
          "data": {
            "text/plain": [
              "<seaborn.axisgrid.FacetGrid at 0x7f938512f7d0>"
            ]
          },
          "metadata": {},
          "execution_count": 38
        },
        {
          "output_type": "display_data",
          "data": {
            "text/plain": [
              "<Figure size 360x360 with 1 Axes>"
            ],
            "image/png": "[encoded data removed]"
          },
          "metadata": {
            "needs_background": "light"
          }
        }
      ]
    },
    {
      "cell_type": "code",
      "source": [
        "bnb_df['price'].plot.box(figsize=(100,50), fontsize=103)"
      ],
      "metadata": {
        "colab": {
          "base_uri": "https://localhost:8080/",
          "height": 589
        },
        "id": "Qd1egI3xqN0w",
        "outputId": "06549f27-a576-4eea-9d5d-196c893ca2b9"
      },
      "execution_count": 39,
      "outputs": [
        {
          "output_type": "execute_result",
          "data": {
            "text/plain": [
              "<matplotlib.axes._subplots.AxesSubplot at 0x7f9385074810>"
            ]
          },
          "metadata": {},
          "execution_count": 39
        },
        {
          "output_type": "display_data",
          "data": {
            "text/plain": [
              "<Figure size 7200x3600 with 1 Axes>"
            ],
            "image/png": "[encoded data removed]"
          },
          "metadata": {
            "needs_background": "light"
          }
        }
      ]
    },
    {
      "cell_type": "code",
      "source": [
        "sns.distplot(bnb_df['price'])"
      ],
      "metadata": {
        "colab": {
          "base_uri": "https://localhost:8080/",
          "height": 351
        },
        "id": "2pCjs7HIrpiQ",
        "outputId": "75af2a45-c765-4334-920e-2fcb33ed3f0a"
      },
      "execution_count": 40,
      "outputs": [
        {
          "output_type": "stream",
          "name": "stderr",
          "text": [
            "/usr/local/lib/python3.7/dist-packages/seaborn/distributions.py:2619: FutureWarning: `distplot` is a deprecated function and will be removed in a future version. Please adapt your code to use either `displot` (a figure-level function with similar flexibility) or `histplot` (an axes-level function for histograms).\n",
            "  warnings.warn(msg, FutureWarning)\n"
          ]
        },
        {
          "output_type": "execute_result",
          "data": {
            "text/plain": [
              "<matplotlib.axes._subplots.AxesSubplot at 0x7f9384ff5250>"
            ]
          },
          "metadata": {},
          "execution_count": 40
        },
        {
          "output_type": "display_data",
          "data": {
            "text/plain": [
              "<Figure size 432x288 with 1 Axes>"
            ],
            "image/png": "[encoded data removed]"
          },
          "metadata": {
            "needs_background": "light"
          }
        }
      ]
    },
    {
      "cell_type": "code",
      "source": [
        ""
      ],
      "metadata": {
        "id": "Fit0LTmHsWS6"
      },
      "execution_count": 40,
      "outputs": []
    }
  ]
}